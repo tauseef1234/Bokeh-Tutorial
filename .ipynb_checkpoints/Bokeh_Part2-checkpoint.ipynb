{
 "cells": [
  {
   "cell_type": "markdown",
   "metadata": {
    "application/vnd.databricks.v1+cell": {
     "inputWidgets": {},
     "nuid": "eb5ec4f6-6de4-44ad-a7ef-d78da0c06ee4",
     "showTitle": false,
     "title": ""
    }
   },
   "source": [
    "## Plotting Multiple Plots\n",
    "\n",
    "Bokeh includes several layout options for plots and widgets. These let you arrange multiple components to create interactive dashboards and data applications.\n",
    "\n",
    "Layout functions let you build a grid of plots and widgets. You can have as many rows, columns, or grids of plots in one layout as you like. Bokeh layouts also allow for a number of sizing options, or modes. These modes allow plots and widgets to resize to fit the browser window.\n",
    "\n",
    "There are several layouts provided by the Bokeh in order to creat Multiple Plots. These layouts are:\n",
    "\n",
    "- Vertical Layout\n",
    "- Horizontal Layout\n",
    "- Grid Layout"
   ]
  },
  {
   "cell_type": "markdown",
   "metadata": {
    "application/vnd.databricks.v1+cell": {
     "inputWidgets": {},
     "nuid": "2d2b9258-1a75-4cf6-a7a0-effb4dc70588",
     "showTitle": false,
     "title": ""
    }
   },
   "source": [
    "**1. Vertical Layout**\n",
    "\n",
    "To display plots or widgets vertically, use the column() function."
   ]
  },
  {
   "cell_type": "code",
   "execution_count": 1,
   "metadata": {
    "application/vnd.databricks.v1+cell": {
     "inputWidgets": {},
     "nuid": "a32d072b-d6f0-4277-a602-e80449938f83",
     "showTitle": false,
     "title": ""
    }
   },
   "outputs": [
    {
     "data": {
      "text/html": [
       "\n",
       "    <div class=\"bk-root\">\n",
       "        <a href=\"https://bokeh.org\" target=\"_blank\" class=\"bk-logo bk-logo-small bk-logo-notebook\"></a>\n",
       "        <span id=\"1113\">Loading BokehJS ...</span>\n",
       "    </div>"
      ]
     },
     "metadata": {},
     "output_type": "display_data"
    },
    {
     "data": {
      "application/javascript": [
       "\n",
       "(function(root) {\n",
       "  function now() {\n",
       "    return new Date();\n",
       "  }\n",
       "\n",
       "  const force = true;\n",
       "\n",
       "  if (typeof root._bokeh_onload_callbacks === \"undefined\" || force === true) {\n",
       "    root._bokeh_onload_callbacks = [];\n",
       "    root._bokeh_is_loading = undefined;\n",
       "  }\n",
       "\n",
       "  const JS_MIME_TYPE = 'application/javascript';\n",
       "  const HTML_MIME_TYPE = 'text/html';\n",
       "  const EXEC_MIME_TYPE = 'application/vnd.bokehjs_exec.v0+json';\n",
       "  const CLASS_NAME = 'output_bokeh rendered_html';\n",
       "\n",
       "  /**\n",
       "   * Render data to the DOM node\n",
       "   */\n",
       "  function render(props, node) {\n",
       "    const script = document.createElement(\"script\");\n",
       "    node.appendChild(script);\n",
       "  }\n",
       "\n",
       "  /**\n",
       "   * Handle when an output is cleared or removed\n",
       "   */\n",
       "  function handleClearOutput(event, handle) {\n",
       "    const cell = handle.cell;\n",
       "\n",
       "    const id = cell.output_area._bokeh_element_id;\n",
       "    const server_id = cell.output_area._bokeh_server_id;\n",
       "    // Clean up Bokeh references\n",
       "    if (id != null && id in Bokeh.index) {\n",
       "      Bokeh.index[id].model.document.clear();\n",
       "      delete Bokeh.index[id];\n",
       "    }\n",
       "\n",
       "    if (server_id !== undefined) {\n",
       "      // Clean up Bokeh references\n",
       "      const cmd_clean = \"from bokeh.io.state import curstate; print(curstate().uuid_to_server['\" + server_id + \"'].get_sessions()[0].document.roots[0]._id)\";\n",
       "      cell.notebook.kernel.execute(cmd_clean, {\n",
       "        iopub: {\n",
       "          output: function(msg) {\n",
       "            const id = msg.content.text.trim();\n",
       "            if (id in Bokeh.index) {\n",
       "              Bokeh.index[id].model.document.clear();\n",
       "              delete Bokeh.index[id];\n",
       "            }\n",
       "          }\n",
       "        }\n",
       "      });\n",
       "      // Destroy server and session\n",
       "      const cmd_destroy = \"import bokeh.io.notebook as ion; ion.destroy_server('\" + server_id + \"')\";\n",
       "      cell.notebook.kernel.execute(cmd_destroy);\n",
       "    }\n",
       "  }\n",
       "\n",
       "  /**\n",
       "   * Handle when a new output is added\n",
       "   */\n",
       "  function handleAddOutput(event, handle) {\n",
       "    const output_area = handle.output_area;\n",
       "    const output = handle.output;\n",
       "\n",
       "    // limit handleAddOutput to display_data with EXEC_MIME_TYPE content only\n",
       "    if ((output.output_type != \"display_data\") || (!Object.prototype.hasOwnProperty.call(output.data, EXEC_MIME_TYPE))) {\n",
       "      return\n",
       "    }\n",
       "\n",
       "    const toinsert = output_area.element.find(\".\" + CLASS_NAME.split(' ')[0]);\n",
       "\n",
       "    if (output.metadata[EXEC_MIME_TYPE][\"id\"] !== undefined) {\n",
       "      toinsert[toinsert.length - 1].firstChild.textContent = output.data[JS_MIME_TYPE];\n",
       "      // store reference to embed id on output_area\n",
       "      output_area._bokeh_element_id = output.metadata[EXEC_MIME_TYPE][\"id\"];\n",
       "    }\n",
       "    if (output.metadata[EXEC_MIME_TYPE][\"server_id\"] !== undefined) {\n",
       "      const bk_div = document.createElement(\"div\");\n",
       "      bk_div.innerHTML = output.data[HTML_MIME_TYPE];\n",
       "      const script_attrs = bk_div.children[0].attributes;\n",
       "      for (let i = 0; i < script_attrs.length; i++) {\n",
       "        toinsert[toinsert.length - 1].firstChild.setAttribute(script_attrs[i].name, script_attrs[i].value);\n",
       "        toinsert[toinsert.length - 1].firstChild.textContent = bk_div.children[0].textContent\n",
       "      }\n",
       "      // store reference to server id on output_area\n",
       "      output_area._bokeh_server_id = output.metadata[EXEC_MIME_TYPE][\"server_id\"];\n",
       "    }\n",
       "  }\n",
       "\n",
       "  function register_renderer(events, OutputArea) {\n",
       "\n",
       "    function append_mime(data, metadata, element) {\n",
       "      // create a DOM node to render to\n",
       "      const toinsert = this.create_output_subarea(\n",
       "        metadata,\n",
       "        CLASS_NAME,\n",
       "        EXEC_MIME_TYPE\n",
       "      );\n",
       "      this.keyboard_manager.register_events(toinsert);\n",
       "      // Render to node\n",
       "      const props = {data: data, metadata: metadata[EXEC_MIME_TYPE]};\n",
       "      render(props, toinsert[toinsert.length - 1]);\n",
       "      element.append(toinsert);\n",
       "      return toinsert\n",
       "    }\n",
       "\n",
       "    /* Handle when an output is cleared or removed */\n",
       "    events.on('clear_output.CodeCell', handleClearOutput);\n",
       "    events.on('delete.Cell', handleClearOutput);\n",
       "\n",
       "    /* Handle when a new output is added */\n",
       "    events.on('output_added.OutputArea', handleAddOutput);\n",
       "\n",
       "    /**\n",
       "     * Register the mime type and append_mime function with output_area\n",
       "     */\n",
       "    OutputArea.prototype.register_mime_type(EXEC_MIME_TYPE, append_mime, {\n",
       "      /* Is output safe? */\n",
       "      safe: true,\n",
       "      /* Index of renderer in `output_area.display_order` */\n",
       "      index: 0\n",
       "    });\n",
       "  }\n",
       "\n",
       "  // register the mime type if in Jupyter Notebook environment and previously unregistered\n",
       "  if (root.Jupyter !== undefined) {\n",
       "    const events = require('base/js/events');\n",
       "    const OutputArea = require('notebook/js/outputarea').OutputArea;\n",
       "\n",
       "    if (OutputArea.prototype.mime_types().indexOf(EXEC_MIME_TYPE) == -1) {\n",
       "      register_renderer(events, OutputArea);\n",
       "    }\n",
       "  }\n",
       "\n",
       "  \n",
       "  if (typeof (root._bokeh_timeout) === \"undefined\" || force === true) {\n",
       "    root._bokeh_timeout = Date.now() + 5000;\n",
       "    root._bokeh_failed_load = false;\n",
       "  }\n",
       "\n",
       "  const NB_LOAD_WARNING = {'data': {'text/html':\n",
       "     \"<div style='background-color: #fdd'>\\n\"+\n",
       "     \"<p>\\n\"+\n",
       "     \"BokehJS does not appear to have successfully loaded. If loading BokehJS from CDN, this \\n\"+\n",
       "     \"may be due to a slow or bad network connection. Possible fixes:\\n\"+\n",
       "     \"</p>\\n\"+\n",
       "     \"<ul>\\n\"+\n",
       "     \"<li>re-rerun `output_notebook()` to attempt to load from CDN again, or</li>\\n\"+\n",
       "     \"<li>use INLINE resources instead, as so:</li>\\n\"+\n",
       "     \"</ul>\\n\"+\n",
       "     \"<code>\\n\"+\n",
       "     \"from bokeh.resources import INLINE\\n\"+\n",
       "     \"output_notebook(resources=INLINE)\\n\"+\n",
       "     \"</code>\\n\"+\n",
       "     \"</div>\"}};\n",
       "\n",
       "  function display_loaded() {\n",
       "    const el = document.getElementById(\"1113\");\n",
       "    if (el != null) {\n",
       "      el.textContent = \"BokehJS is loading...\";\n",
       "    }\n",
       "    if (root.Bokeh !== undefined) {\n",
       "      if (el != null) {\n",
       "        el.textContent = \"BokehJS \" + root.Bokeh.version + \" successfully loaded.\";\n",
       "      }\n",
       "    } else if (Date.now() < root._bokeh_timeout) {\n",
       "      setTimeout(display_loaded, 100)\n",
       "    }\n",
       "  }\n",
       "\n",
       "\n",
       "  function run_callbacks() {\n",
       "    try {\n",
       "      root._bokeh_onload_callbacks.forEach(function(callback) {\n",
       "        if (callback != null)\n",
       "          callback();\n",
       "      });\n",
       "    } finally {\n",
       "      delete root._bokeh_onload_callbacks\n",
       "    }\n",
       "    console.debug(\"Bokeh: all callbacks have finished\");\n",
       "  }\n",
       "\n",
       "  function load_libs(css_urls, js_urls, callback) {\n",
       "    if (css_urls == null) css_urls = [];\n",
       "    if (js_urls == null) js_urls = [];\n",
       "\n",
       "    root._bokeh_onload_callbacks.push(callback);\n",
       "    if (root._bokeh_is_loading > 0) {\n",
       "      console.debug(\"Bokeh: BokehJS is being loaded, scheduling callback at\", now());\n",
       "      return null;\n",
       "    }\n",
       "    if (js_urls == null || js_urls.length === 0) {\n",
       "      run_callbacks();\n",
       "      return null;\n",
       "    }\n",
       "    console.debug(\"Bokeh: BokehJS not loaded, scheduling load and callback at\", now());\n",
       "    root._bokeh_is_loading = css_urls.length + js_urls.length;\n",
       "\n",
       "    function on_load() {\n",
       "      root._bokeh_is_loading--;\n",
       "      if (root._bokeh_is_loading === 0) {\n",
       "        console.debug(\"Bokeh: all BokehJS libraries/stylesheets loaded\");\n",
       "        run_callbacks()\n",
       "      }\n",
       "    }\n",
       "\n",
       "    function on_error(url) {\n",
       "      console.error(\"failed to load \" + url);\n",
       "    }\n",
       "\n",
       "    for (let i = 0; i < css_urls.length; i++) {\n",
       "      const url = css_urls[i];\n",
       "      const element = document.createElement(\"link\");\n",
       "      element.onload = on_load;\n",
       "      element.onerror = on_error.bind(null, url);\n",
       "      element.rel = \"stylesheet\";\n",
       "      element.type = \"text/css\";\n",
       "      element.href = url;\n",
       "      console.debug(\"Bokeh: injecting link tag for BokehJS stylesheet: \", url);\n",
       "      document.body.appendChild(element);\n",
       "    }\n",
       "\n",
       "    for (let i = 0; i < js_urls.length; i++) {\n",
       "      const url = js_urls[i];\n",
       "      const element = document.createElement('script');\n",
       "      element.onload = on_load;\n",
       "      element.onerror = on_error.bind(null, url);\n",
       "      element.async = false;\n",
       "      element.src = url;\n",
       "      console.debug(\"Bokeh: injecting script tag for BokehJS library: \", url);\n",
       "      document.head.appendChild(element);\n",
       "    }\n",
       "  };\n",
       "\n",
       "  function inject_raw_css(css) {\n",
       "    const element = document.createElement(\"style\");\n",
       "    element.appendChild(document.createTextNode(css));\n",
       "    document.body.appendChild(element);\n",
       "  }\n",
       "\n",
       "  \n",
       "  const js_urls = [\"https://cdn.bokeh.org/bokeh/release/bokeh-2.4.2.min.js\", \"https://cdn.bokeh.org/bokeh/release/bokeh-gl-2.4.2.min.js\", \"https://cdn.bokeh.org/bokeh/release/bokeh-widgets-2.4.2.min.js\", \"https://cdn.bokeh.org/bokeh/release/bokeh-tables-2.4.2.min.js\", \"https://cdn.bokeh.org/bokeh/release/bokeh-mathjax-2.4.2.min.js\"];\n",
       "  const css_urls = [];\n",
       "  \n",
       "\n",
       "  const inline_js = [\n",
       "    function(Bokeh) {\n",
       "      Bokeh.set_log_level(\"info\");\n",
       "    },\n",
       "    function(Bokeh) {\n",
       "    \n",
       "    \n",
       "    }\n",
       "  ];\n",
       "\n",
       "  function run_inline_js() {\n",
       "    \n",
       "    if (root.Bokeh !== undefined || force === true) {\n",
       "      \n",
       "    for (let i = 0; i < inline_js.length; i++) {\n",
       "      inline_js[i].call(root, root.Bokeh);\n",
       "    }\n",
       "    if (force === true) {\n",
       "        display_loaded();\n",
       "      }} else if (Date.now() < root._bokeh_timeout) {\n",
       "      setTimeout(run_inline_js, 100);\n",
       "    } else if (!root._bokeh_failed_load) {\n",
       "      console.log(\"Bokeh: BokehJS failed to load within specified timeout.\");\n",
       "      root._bokeh_failed_load = true;\n",
       "    } else if (force !== true) {\n",
       "      const cell = $(document.getElementById(\"1113\")).parents('.cell').data().cell;\n",
       "      cell.output_area.append_execute_result(NB_LOAD_WARNING)\n",
       "    }\n",
       "\n",
       "  }\n",
       "\n",
       "  if (root._bokeh_is_loading === 0) {\n",
       "    console.debug(\"Bokeh: BokehJS loaded, going straight to plotting\");\n",
       "    run_inline_js();\n",
       "  } else {\n",
       "    load_libs(css_urls, js_urls, function() {\n",
       "      console.debug(\"Bokeh: BokehJS plotting callback run at\", now());\n",
       "      run_inline_js();\n",
       "    });\n",
       "  }\n",
       "}(window));"
      ],
      "application/vnd.bokehjs_load.v0+json": "\n(function(root) {\n  function now() {\n    return new Date();\n  }\n\n  const force = true;\n\n  if (typeof root._bokeh_onload_callbacks === \"undefined\" || force === true) {\n    root._bokeh_onload_callbacks = [];\n    root._bokeh_is_loading = undefined;\n  }\n\n  \n\n  \n  if (typeof (root._bokeh_timeout) === \"undefined\" || force === true) {\n    root._bokeh_timeout = Date.now() + 5000;\n    root._bokeh_failed_load = false;\n  }\n\n  const NB_LOAD_WARNING = {'data': {'text/html':\n     \"<div style='background-color: #fdd'>\\n\"+\n     \"<p>\\n\"+\n     \"BokehJS does not appear to have successfully loaded. If loading BokehJS from CDN, this \\n\"+\n     \"may be due to a slow or bad network connection. Possible fixes:\\n\"+\n     \"</p>\\n\"+\n     \"<ul>\\n\"+\n     \"<li>re-rerun `output_notebook()` to attempt to load from CDN again, or</li>\\n\"+\n     \"<li>use INLINE resources instead, as so:</li>\\n\"+\n     \"</ul>\\n\"+\n     \"<code>\\n\"+\n     \"from bokeh.resources import INLINE\\n\"+\n     \"output_notebook(resources=INLINE)\\n\"+\n     \"</code>\\n\"+\n     \"</div>\"}};\n\n  function display_loaded() {\n    const el = document.getElementById(\"1113\");\n    if (el != null) {\n      el.textContent = \"BokehJS is loading...\";\n    }\n    if (root.Bokeh !== undefined) {\n      if (el != null) {\n        el.textContent = \"BokehJS \" + root.Bokeh.version + \" successfully loaded.\";\n      }\n    } else if (Date.now() < root._bokeh_timeout) {\n      setTimeout(display_loaded, 100)\n    }\n  }\n\n\n  function run_callbacks() {\n    try {\n      root._bokeh_onload_callbacks.forEach(function(callback) {\n        if (callback != null)\n          callback();\n      });\n    } finally {\n      delete root._bokeh_onload_callbacks\n    }\n    console.debug(\"Bokeh: all callbacks have finished\");\n  }\n\n  function load_libs(css_urls, js_urls, callback) {\n    if (css_urls == null) css_urls = [];\n    if (js_urls == null) js_urls = [];\n\n    root._bokeh_onload_callbacks.push(callback);\n    if (root._bokeh_is_loading > 0) {\n      console.debug(\"Bokeh: BokehJS is being loaded, scheduling callback at\", now());\n      return null;\n    }\n    if (js_urls == null || js_urls.length === 0) {\n      run_callbacks();\n      return null;\n    }\n    console.debug(\"Bokeh: BokehJS not loaded, scheduling load and callback at\", now());\n    root._bokeh_is_loading = css_urls.length + js_urls.length;\n\n    function on_load() {\n      root._bokeh_is_loading--;\n      if (root._bokeh_is_loading === 0) {\n        console.debug(\"Bokeh: all BokehJS libraries/stylesheets loaded\");\n        run_callbacks()\n      }\n    }\n\n    function on_error(url) {\n      console.error(\"failed to load \" + url);\n    }\n\n    for (let i = 0; i < css_urls.length; i++) {\n      const url = css_urls[i];\n      const element = document.createElement(\"link\");\n      element.onload = on_load;\n      element.onerror = on_error.bind(null, url);\n      element.rel = \"stylesheet\";\n      element.type = \"text/css\";\n      element.href = url;\n      console.debug(\"Bokeh: injecting link tag for BokehJS stylesheet: \", url);\n      document.body.appendChild(element);\n    }\n\n    for (let i = 0; i < js_urls.length; i++) {\n      const url = js_urls[i];\n      const element = document.createElement('script');\n      element.onload = on_load;\n      element.onerror = on_error.bind(null, url);\n      element.async = false;\n      element.src = url;\n      console.debug(\"Bokeh: injecting script tag for BokehJS library: \", url);\n      document.head.appendChild(element);\n    }\n  };\n\n  function inject_raw_css(css) {\n    const element = document.createElement(\"style\");\n    element.appendChild(document.createTextNode(css));\n    document.body.appendChild(element);\n  }\n\n  \n  const js_urls = [\"https://cdn.bokeh.org/bokeh/release/bokeh-2.4.2.min.js\", \"https://cdn.bokeh.org/bokeh/release/bokeh-gl-2.4.2.min.js\", \"https://cdn.bokeh.org/bokeh/release/bokeh-widgets-2.4.2.min.js\", \"https://cdn.bokeh.org/bokeh/release/bokeh-tables-2.4.2.min.js\", \"https://cdn.bokeh.org/bokeh/release/bokeh-mathjax-2.4.2.min.js\"];\n  const css_urls = [];\n  \n\n  const inline_js = [\n    function(Bokeh) {\n      Bokeh.set_log_level(\"info\");\n    },\n    function(Bokeh) {\n    \n    \n    }\n  ];\n\n  function run_inline_js() {\n    \n    if (root.Bokeh !== undefined || force === true) {\n      \n    for (let i = 0; i < inline_js.length; i++) {\n      inline_js[i].call(root, root.Bokeh);\n    }\n    if (force === true) {\n        display_loaded();\n      }} else if (Date.now() < root._bokeh_timeout) {\n      setTimeout(run_inline_js, 100);\n    } else if (!root._bokeh_failed_load) {\n      console.log(\"Bokeh: BokehJS failed to load within specified timeout.\");\n      root._bokeh_failed_load = true;\n    } else if (force !== true) {\n      const cell = $(document.getElementById(\"1113\")).parents('.cell').data().cell;\n      cell.output_area.append_execute_result(NB_LOAD_WARNING)\n    }\n\n  }\n\n  if (root._bokeh_is_loading === 0) {\n    console.debug(\"Bokeh: BokehJS loaded, going straight to plotting\");\n    run_inline_js();\n  } else {\n    load_libs(css_urls, js_urls, function() {\n      console.debug(\"Bokeh: BokehJS plotting callback run at\", now());\n      run_inline_js();\n    });\n  }\n}(window));"
     },
     "metadata": {},
     "output_type": "display_data"
    },
    {
     "data": {
      "text/html": [
       "\n",
       "\n",
       "\n",
       "\n",
       "\n",
       "\n",
       "  <div class=\"bk-root\" id=\"520fe44e-75bb-4b06-96c0-4b144450009d\" data-root-id=\"1114\"></div>\n"
      ]
     },
     "metadata": {},
     "output_type": "display_data"
    },
    {
     "data": {
      "application/javascript": [
       "(function(root) {\n",
       "  function embed_document(root) {\n",
       "    \n",
       "  const docs_json = {\"00fb8c0e-c749-43d2-8952-40fad69b229d\":{\"defs\":[],\"roots\":{\"references\":[{\"attributes\":{\"children\":[{\"id\":\"1002\"},{\"id\":\"1039\"},{\"id\":\"1076\"}]},\"id\":\"1114\",\"type\":\"Column\"},{\"attributes\":{\"source\":{\"id\":\"1033\"}},\"id\":\"1038\",\"type\":\"CDSView\"},{\"attributes\":{\"tools\":[{\"id\":\"1056\"},{\"id\":\"1057\"},{\"id\":\"1058\"},{\"id\":\"1059\"},{\"id\":\"1060\"},{\"id\":\"1061\"}]},\"id\":\"1063\",\"type\":\"Toolbar\"},{\"attributes\":{\"data\":{\"x\":[0,1,2,3,4,5,6,7,8,9,10],\"y\":[10,9,8,7,6,5,4,3,2,1,0]},\"selected\":{\"id\":\"1143\"},\"selection_policy\":{\"id\":\"1142\"}},\"id\":\"1070\",\"type\":\"ColumnDataSource\"},{\"attributes\":{\"fill_alpha\":{\"value\":0.1},\"fill_color\":{\"value\":\"#d95b43\"},\"hatch_alpha\":{\"value\":0.1},\"hatch_color\":{\"value\":\"#d95b43\"},\"line_alpha\":{\"value\":0.1},\"line_color\":{\"value\":\"#d95b43\"},\"marker\":{\"value\":\"square\"},\"size\":{\"value\":12},\"x\":{\"field\":\"x\"},\"y\":{\"field\":\"y\"}},\"id\":\"1109\",\"type\":\"Scatter\"},{\"attributes\":{\"tools\":[{\"id\":\"1093\"},{\"id\":\"1094\"},{\"id\":\"1095\"},{\"id\":\"1096\"},{\"id\":\"1097\"},{\"id\":\"1098\"}]},\"id\":\"1100\",\"type\":\"Toolbar\"},{\"attributes\":{},\"id\":\"1040\",\"type\":\"DataRange1d\"},{\"attributes\":{\"coordinates\":null,\"data_source\":{\"id\":\"1107\"},\"glyph\":{\"id\":\"1108\"},\"group\":null,\"hover_glyph\":null,\"muted_glyph\":{\"id\":\"1110\"},\"nonselection_glyph\":{\"id\":\"1109\"},\"view\":{\"id\":\"1112\"}},\"id\":\"1111\",\"type\":\"GlyphRenderer\"},{\"attributes\":{\"bottom_units\":\"screen\",\"coordinates\":null,\"fill_alpha\":0.5,\"fill_color\":\"lightgrey\",\"group\":null,\"left_units\":\"screen\",\"level\":\"overlay\",\"line_alpha\":1.0,\"line_color\":\"black\",\"line_dash\":[4,4],\"line_width\":2,\"right_units\":\"screen\",\"syncable\":false,\"top_units\":\"screen\"},\"id\":\"1099\",\"type\":\"BoxAnnotation\"},{\"attributes\":{},\"id\":\"1093\",\"type\":\"PanTool\"},{\"attributes\":{\"fill_alpha\":{\"value\":0.2},\"fill_color\":{\"value\":\"#d95b43\"},\"hatch_alpha\":{\"value\":0.2},\"hatch_color\":{\"value\":\"#d95b43\"},\"line_alpha\":{\"value\":0.2},\"line_color\":{\"value\":\"#d95b43\"},\"marker\":{\"value\":\"square\"},\"size\":{\"value\":12},\"x\":{\"field\":\"x\"},\"y\":{\"field\":\"y\"}},\"id\":\"1110\",\"type\":\"Scatter\"},{\"attributes\":{},\"id\":\"1097\",\"type\":\"ResetTool\"},{\"attributes\":{},\"id\":\"1042\",\"type\":\"DataRange1d\"},{\"attributes\":{\"source\":{\"id\":\"1107\"}},\"id\":\"1112\",\"type\":\"CDSView\"},{\"attributes\":{},\"id\":\"1094\",\"type\":\"WheelZoomTool\"},{\"attributes\":{\"overlay\":{\"id\":\"1099\"}},\"id\":\"1095\",\"type\":\"BoxZoomTool\"},{\"attributes\":{\"fill_alpha\":{\"value\":0.8},\"fill_color\":{\"value\":\"#d95b43\"},\"hatch_alpha\":{\"value\":0.8},\"hatch_color\":{\"value\":\"#d95b43\"},\"line_alpha\":{\"value\":0.8},\"line_color\":{\"value\":\"#d95b43\"},\"marker\":{\"value\":\"square\"},\"size\":{\"value\":12},\"x\":{\"field\":\"x\"},\"y\":{\"field\":\"y\"}},\"id\":\"1108\",\"type\":\"Scatter\"},{\"attributes\":{},\"id\":\"1096\",\"type\":\"SaveTool\"},{\"attributes\":{},\"id\":\"1122\",\"type\":\"BasicTickFormatter\"},{\"attributes\":{},\"id\":\"1044\",\"type\":\"LinearScale\"},{\"attributes\":{\"axis\":{\"id\":\"1048\"},\"coordinates\":null,\"group\":null,\"ticker\":null},\"id\":\"1051\",\"type\":\"Grid\"},{\"attributes\":{},\"id\":\"1098\",\"type\":\"HelpTool\"},{\"attributes\":{},\"id\":\"1046\",\"type\":\"LinearScale\"},{\"attributes\":{},\"id\":\"1053\",\"type\":\"BasicTicker\"},{\"attributes\":{},\"id\":\"1125\",\"type\":\"BasicTickFormatter\"},{\"attributes\":{\"coordinates\":null,\"formatter\":{\"id\":\"1128\"},\"group\":null,\"major_label_policy\":{\"id\":\"1129\"},\"ticker\":{\"id\":\"1053\"}},\"id\":\"1052\",\"type\":\"LinearAxis\"},{\"attributes\":{\"fill_alpha\":{\"value\":0.8},\"fill_color\":{\"value\":\"#c02942\"},\"hatch_alpha\":{\"value\":0.8},\"hatch_color\":{\"value\":\"#c02942\"},\"line_alpha\":{\"value\":0.8},\"line_color\":{\"value\":\"#c02942\"},\"marker\":{\"value\":\"triangle\"},\"size\":{\"value\":12},\"x\":{\"field\":\"x\"},\"y\":{\"field\":\"y\"}},\"id\":\"1071\",\"type\":\"Scatter\"},{\"attributes\":{\"fill_alpha\":{\"value\":0.1},\"fill_color\":{\"value\":\"#c02942\"},\"hatch_alpha\":{\"value\":0.1},\"hatch_color\":{\"value\":\"#c02942\"},\"line_alpha\":{\"value\":0.1},\"line_color\":{\"value\":\"#c02942\"},\"marker\":{\"value\":\"triangle\"},\"size\":{\"value\":12},\"x\":{\"field\":\"x\"},\"y\":{\"field\":\"y\"}},\"id\":\"1072\",\"type\":\"Scatter\"},{\"attributes\":{\"axis\":{\"id\":\"1052\"},\"coordinates\":null,\"dimension\":1,\"group\":null,\"ticker\":null},\"id\":\"1055\",\"type\":\"Grid\"},{\"attributes\":{\"source\":{\"id\":\"1070\"}},\"id\":\"1075\",\"type\":\"CDSView\"},{\"attributes\":{\"data\":{\"x\":[0,1,2,3,4,5,6,7,8,9,10],\"y\":[0,1,2,3,4,5,6,7,8,9,10]},\"selected\":{\"id\":\"1140\"},\"selection_policy\":{\"id\":\"1139\"}},\"id\":\"1033\",\"type\":\"ColumnDataSource\"},{\"attributes\":{\"coordinates\":null,\"data_source\":{\"id\":\"1070\"},\"glyph\":{\"id\":\"1071\"},\"group\":null,\"hover_glyph\":null,\"muted_glyph\":{\"id\":\"1073\"},\"nonselection_glyph\":{\"id\":\"1072\"},\"view\":{\"id\":\"1075\"}},\"id\":\"1074\",\"type\":\"GlyphRenderer\"},{\"attributes\":{\"fill_alpha\":{\"value\":0.2},\"fill_color\":{\"value\":\"#c02942\"},\"hatch_alpha\":{\"value\":0.2},\"hatch_color\":{\"value\":\"#c02942\"},\"line_alpha\":{\"value\":0.2},\"line_color\":{\"value\":\"#c02942\"},\"marker\":{\"value\":\"triangle\"},\"size\":{\"value\":12},\"x\":{\"field\":\"x\"},\"y\":{\"field\":\"y\"}},\"id\":\"1073\",\"type\":\"Scatter\"},{\"attributes\":{\"background_fill_color\":\"#fafafa\",\"below\":[{\"id\":\"1085\"}],\"center\":[{\"id\":\"1088\"},{\"id\":\"1092\"}],\"height\":250,\"left\":[{\"id\":\"1089\"}],\"renderers\":[{\"id\":\"1111\"}],\"title\":{\"id\":\"1119\"},\"toolbar\":{\"id\":\"1100\"},\"width\":250,\"x_range\":{\"id\":\"1077\"},\"x_scale\":{\"id\":\"1081\"},\"y_range\":{\"id\":\"1079\"},\"y_scale\":{\"id\":\"1083\"}},\"id\":\"1076\",\"subtype\":\"Figure\",\"type\":\"Plot\"},{\"attributes\":{},\"id\":\"1077\",\"type\":\"DataRange1d\"},{\"attributes\":{\"background_fill_color\":\"#fafafa\",\"below\":[{\"id\":\"1011\"}],\"center\":[{\"id\":\"1014\"},{\"id\":\"1018\"}],\"height\":250,\"left\":[{\"id\":\"1015\"}],\"renderers\":[{\"id\":\"1037\"}],\"title\":{\"id\":\"1115\"},\"toolbar\":{\"id\":\"1026\"},\"width\":250,\"x_range\":{\"id\":\"1003\"},\"x_scale\":{\"id\":\"1007\"},\"y_range\":{\"id\":\"1005\"},\"y_scale\":{\"id\":\"1009\"}},\"id\":\"1002\",\"subtype\":\"Figure\",\"type\":\"Plot\"},{\"attributes\":{\"bottom_units\":\"screen\",\"coordinates\":null,\"fill_alpha\":0.5,\"fill_color\":\"lightgrey\",\"group\":null,\"left_units\":\"screen\",\"level\":\"overlay\",\"line_alpha\":1.0,\"line_color\":\"black\",\"line_dash\":[4,4],\"line_width\":2,\"right_units\":\"screen\",\"syncable\":false,\"top_units\":\"screen\"},\"id\":\"1062\",\"type\":\"BoxAnnotation\"},{\"attributes\":{},\"id\":\"1056\",\"type\":\"PanTool\"},{\"attributes\":{\"data\":{\"x\":[0,1,2,3,4,5,6,7,8,9,10],\"y\":[5,4,3,2,1,0,1,2,3,4,5]},\"selected\":{\"id\":\"1146\"},\"selection_policy\":{\"id\":\"1145\"}},\"id\":\"1107\",\"type\":\"ColumnDataSource\"},{\"attributes\":{},\"id\":\"1060\",\"type\":\"ResetTool\"},{\"attributes\":{},\"id\":\"1057\",\"type\":\"WheelZoomTool\"},{\"attributes\":{\"overlay\":{\"id\":\"1062\"}},\"id\":\"1058\",\"type\":\"BoxZoomTool\"},{\"attributes\":{},\"id\":\"1059\",\"type\":\"SaveTool\"},{\"attributes\":{\"coordinates\":null,\"group\":null},\"id\":\"1117\",\"type\":\"Title\"},{\"attributes\":{},\"id\":\"1079\",\"type\":\"DataRange1d\"},{\"attributes\":{\"coordinates\":null,\"group\":null},\"id\":\"1119\",\"type\":\"Title\"},{\"attributes\":{},\"id\":\"1126\",\"type\":\"AllLabels\"},{\"attributes\":{},\"id\":\"1061\",\"type\":\"HelpTool\"},{\"attributes\":{},\"id\":\"1123\",\"type\":\"AllLabels\"},{\"attributes\":{},\"id\":\"1128\",\"type\":\"BasicTickFormatter\"},{\"attributes\":{},\"id\":\"1086\",\"type\":\"BasicTicker\"},{\"attributes\":{},\"id\":\"1081\",\"type\":\"LinearScale\"},{\"attributes\":{},\"id\":\"1129\",\"type\":\"AllLabels\"},{\"attributes\":{},\"id\":\"1083\",\"type\":\"LinearScale\"},{\"attributes\":{},\"id\":\"1131\",\"type\":\"BasicTickFormatter\"},{\"attributes\":{\"coordinates\":null,\"formatter\":{\"id\":\"1137\"},\"group\":null,\"major_label_policy\":{\"id\":\"1138\"},\"ticker\":{\"id\":\"1086\"}},\"id\":\"1085\",\"type\":\"LinearAxis\"},{\"attributes\":{},\"id\":\"1132\",\"type\":\"AllLabels\"},{\"attributes\":{\"axis\":{\"id\":\"1085\"},\"coordinates\":null,\"group\":null,\"ticker\":null},\"id\":\"1088\",\"type\":\"Grid\"},{\"attributes\":{},\"id\":\"1135\",\"type\":\"AllLabels\"},{\"attributes\":{},\"id\":\"1090\",\"type\":\"BasicTicker\"},{\"attributes\":{\"coordinates\":null,\"formatter\":{\"id\":\"1134\"},\"group\":null,\"major_label_policy\":{\"id\":\"1135\"},\"ticker\":{\"id\":\"1090\"}},\"id\":\"1089\",\"type\":\"LinearAxis\"},{\"attributes\":{},\"id\":\"1007\",\"type\":\"LinearScale\"},{\"attributes\":{},\"id\":\"1134\",\"type\":\"BasicTickFormatter\"},{\"attributes\":{},\"id\":\"1005\",\"type\":\"DataRange1d\"},{\"attributes\":{\"background_fill_color\":\"#fafafa\",\"below\":[{\"id\":\"1048\"}],\"center\":[{\"id\":\"1051\"},{\"id\":\"1055\"}],\"height\":250,\"left\":[{\"id\":\"1052\"}],\"renderers\":[{\"id\":\"1074\"}],\"title\":{\"id\":\"1117\"},\"toolbar\":{\"id\":\"1063\"},\"width\":250,\"x_range\":{\"id\":\"1040\"},\"x_scale\":{\"id\":\"1044\"},\"y_range\":{\"id\":\"1042\"},\"y_scale\":{\"id\":\"1046\"}},\"id\":\"1039\",\"subtype\":\"Figure\",\"type\":\"Plot\"},{\"attributes\":{},\"id\":\"1003\",\"type\":\"DataRange1d\"},{\"attributes\":{\"axis\":{\"id\":\"1089\"},\"coordinates\":null,\"dimension\":1,\"group\":null,\"ticker\":null},\"id\":\"1092\",\"type\":\"Grid\"},{\"attributes\":{},\"id\":\"1137\",\"type\":\"BasicTickFormatter\"},{\"attributes\":{},\"id\":\"1139\",\"type\":\"UnionRenderers\"},{\"attributes\":{},\"id\":\"1140\",\"type\":\"Selection\"},{\"attributes\":{},\"id\":\"1012\",\"type\":\"BasicTicker\"},{\"attributes\":{},\"id\":\"1009\",\"type\":\"LinearScale\"},{\"attributes\":{},\"id\":\"1143\",\"type\":\"Selection\"},{\"attributes\":{\"coordinates\":null,\"formatter\":{\"id\":\"1125\"},\"group\":null,\"major_label_policy\":{\"id\":\"1126\"},\"ticker\":{\"id\":\"1012\"}},\"id\":\"1011\",\"type\":\"LinearAxis\"},{\"attributes\":{},\"id\":\"1138\",\"type\":\"AllLabels\"},{\"attributes\":{},\"id\":\"1142\",\"type\":\"UnionRenderers\"},{\"attributes\":{},\"id\":\"1145\",\"type\":\"UnionRenderers\"},{\"attributes\":{\"axis\":{\"id\":\"1011\"},\"coordinates\":null,\"group\":null,\"ticker\":null},\"id\":\"1014\",\"type\":\"Grid\"},{\"attributes\":{},\"id\":\"1016\",\"type\":\"BasicTicker\"},{\"attributes\":{\"coordinates\":null,\"formatter\":{\"id\":\"1122\"},\"group\":null,\"major_label_policy\":{\"id\":\"1123\"},\"ticker\":{\"id\":\"1016\"}},\"id\":\"1015\",\"type\":\"LinearAxis\"},{\"attributes\":{},\"id\":\"1146\",\"type\":\"Selection\"},{\"attributes\":{\"axis\":{\"id\":\"1015\"},\"coordinates\":null,\"dimension\":1,\"group\":null,\"ticker\":null},\"id\":\"1018\",\"type\":\"Grid\"},{\"attributes\":{\"coordinates\":null,\"data_source\":{\"id\":\"1033\"},\"glyph\":{\"id\":\"1034\"},\"group\":null,\"hover_glyph\":null,\"muted_glyph\":{\"id\":\"1036\"},\"nonselection_glyph\":{\"id\":\"1035\"},\"view\":{\"id\":\"1038\"}},\"id\":\"1037\",\"type\":\"GlyphRenderer\"},{\"attributes\":{\"fill_alpha\":{\"value\":0.1},\"fill_color\":{\"value\":\"#53777a\"},\"hatch_alpha\":{\"value\":0.1},\"hatch_color\":{\"value\":\"#53777a\"},\"line_alpha\":{\"value\":0.1},\"line_color\":{\"value\":\"#53777a\"},\"size\":{\"value\":12},\"x\":{\"field\":\"x\"},\"y\":{\"field\":\"y\"}},\"id\":\"1035\",\"type\":\"Circle\"},{\"attributes\":{\"tools\":[{\"id\":\"1019\"},{\"id\":\"1020\"},{\"id\":\"1021\"},{\"id\":\"1022\"},{\"id\":\"1023\"},{\"id\":\"1024\"}]},\"id\":\"1026\",\"type\":\"Toolbar\"},{\"attributes\":{},\"id\":\"1019\",\"type\":\"PanTool\"},{\"attributes\":{},\"id\":\"1023\",\"type\":\"ResetTool\"},{\"attributes\":{},\"id\":\"1020\",\"type\":\"WheelZoomTool\"},{\"attributes\":{\"overlay\":{\"id\":\"1025\"}},\"id\":\"1021\",\"type\":\"BoxZoomTool\"},{\"attributes\":{},\"id\":\"1022\",\"type\":\"SaveTool\"},{\"attributes\":{},\"id\":\"1024\",\"type\":\"HelpTool\"},{\"attributes\":{},\"id\":\"1049\",\"type\":\"BasicTicker\"},{\"attributes\":{\"bottom_units\":\"screen\",\"coordinates\":null,\"fill_alpha\":0.5,\"fill_color\":\"lightgrey\",\"group\":null,\"left_units\":\"screen\",\"level\":\"overlay\",\"line_alpha\":1.0,\"line_color\":\"black\",\"line_dash\":[4,4],\"line_width\":2,\"right_units\":\"screen\",\"syncable\":false,\"top_units\":\"screen\"},\"id\":\"1025\",\"type\":\"BoxAnnotation\"},{\"attributes\":{\"fill_alpha\":{\"value\":0.2},\"fill_color\":{\"value\":\"#53777a\"},\"hatch_alpha\":{\"value\":0.2},\"hatch_color\":{\"value\":\"#53777a\"},\"line_alpha\":{\"value\":0.2},\"line_color\":{\"value\":\"#53777a\"},\"size\":{\"value\":12},\"x\":{\"field\":\"x\"},\"y\":{\"field\":\"y\"}},\"id\":\"1036\",\"type\":\"Circle\"},{\"attributes\":{\"coordinates\":null,\"formatter\":{\"id\":\"1131\"},\"group\":null,\"major_label_policy\":{\"id\":\"1132\"},\"ticker\":{\"id\":\"1049\"}},\"id\":\"1048\",\"type\":\"LinearAxis\"},{\"attributes\":{\"coordinates\":null,\"group\":null},\"id\":\"1115\",\"type\":\"Title\"},{\"attributes\":{\"fill_alpha\":{\"value\":0.8},\"fill_color\":{\"value\":\"#53777a\"},\"hatch_alpha\":{\"value\":0.8},\"hatch_color\":{\"value\":\"#53777a\"},\"line_alpha\":{\"value\":0.8},\"line_color\":{\"value\":\"#53777a\"},\"size\":{\"value\":12},\"x\":{\"field\":\"x\"},\"y\":{\"field\":\"y\"}},\"id\":\"1034\",\"type\":\"Circle\"}],\"root_ids\":[\"1114\"]},\"title\":\"Bokeh Application\",\"version\":\"2.4.2\"}};\n",
       "  const render_items = [{\"docid\":\"00fb8c0e-c749-43d2-8952-40fad69b229d\",\"root_ids\":[\"1114\"],\"roots\":{\"1114\":\"520fe44e-75bb-4b06-96c0-4b144450009d\"}}];\n",
       "  root.Bokeh.embed.embed_items_notebook(docs_json, render_items);\n",
       "\n",
       "  }\n",
       "  if (root.Bokeh !== undefined) {\n",
       "    embed_document(root);\n",
       "  } else {\n",
       "    let attempts = 0;\n",
       "    const timer = setInterval(function(root) {\n",
       "      if (root.Bokeh !== undefined) {\n",
       "        clearInterval(timer);\n",
       "        embed_document(root);\n",
       "      } else {\n",
       "        attempts++;\n",
       "        if (attempts > 100) {\n",
       "          clearInterval(timer);\n",
       "          console.log(\"Bokeh: ERROR: Unable to run BokehJS code because BokehJS library is missing\");\n",
       "        }\n",
       "      }\n",
       "    }, 10, root)\n",
       "  }\n",
       "})(window);"
      ],
      "application/vnd.bokehjs_exec.v0+json": ""
     },
     "metadata": {
      "application/vnd.bokehjs_exec.v0+json": {
       "id": "1114"
      }
     },
     "output_type": "display_data"
    }
   ],
   "source": [
    "from bokeh.io import output_file, show, output_notebook\n",
    "from bokeh.layouts import column\n",
    "from bokeh.plotting import figure\n",
    "\n",
    "\n",
    "x = list(range(11))\n",
    "y0 = x\n",
    "y1 = [10 - i for i in x]\n",
    "y2 = [abs(i - 5) for i in x]\n",
    "\n",
    "# create three plots\n",
    "s1 = figure(plot_width=250, plot_height=250, background_fill_color=\"#fafafa\")\n",
    "s1.circle(x, y0, size=12, color=\"#53777a\", alpha=0.8)\n",
    "\n",
    "s2 = figure(plot_width=250, plot_height=250, background_fill_color=\"#fafafa\")\n",
    "s2.triangle(x, y1, size=12, color=\"#c02942\", alpha=0.8)\n",
    "\n",
    "s3 = figure(plot_width=250, plot_height=250, background_fill_color=\"#fafafa\")\n",
    "s3.square(x, y2, size=12, color=\"#d95b43\", alpha=0.8)\n",
    "\n",
    "# put the results in a column and show\n",
    "output_notebook()\n",
    "show(column(s1, s2, s3))"
   ]
  },
  {
   "cell_type": "markdown",
   "metadata": {
    "application/vnd.databricks.v1+cell": {
     "inputWidgets": {},
     "nuid": "8b051677-a565-419d-9c28-49ea20bf11ef",
     "showTitle": false,
     "title": ""
    }
   },
   "source": [
    "**2. Horizontal Layout**\n",
    "\n",
    "To display plots or widgets horizontally, use the row() function."
   ]
  },
  {
   "cell_type": "code",
   "execution_count": 2,
   "metadata": {
    "application/vnd.databricks.v1+cell": {
     "inputWidgets": {},
     "nuid": "f89253d0-ab7c-420b-a2b7-9f8ec8e7fea0",
     "showTitle": false,
     "title": ""
    }
   },
   "outputs": [
    {
     "data": {
      "text/html": [
       "\n",
       "    <div class=\"bk-root\">\n",
       "        <a href=\"https://bokeh.org\" target=\"_blank\" class=\"bk-logo bk-logo-small bk-logo-notebook\"></a>\n",
       "        <span id=\"1424\">Loading BokehJS ...</span>\n",
       "    </div>"
      ]
     },
     "metadata": {},
     "output_type": "display_data"
    },
    {
     "data": {
      "application/javascript": [
       "\n",
       "(function(root) {\n",
       "  function now() {\n",
       "    return new Date();\n",
       "  }\n",
       "\n",
       "  const force = true;\n",
       "\n",
       "  if (typeof root._bokeh_onload_callbacks === \"undefined\" || force === true) {\n",
       "    root._bokeh_onload_callbacks = [];\n",
       "    root._bokeh_is_loading = undefined;\n",
       "  }\n",
       "\n",
       "  const JS_MIME_TYPE = 'application/javascript';\n",
       "  const HTML_MIME_TYPE = 'text/html';\n",
       "  const EXEC_MIME_TYPE = 'application/vnd.bokehjs_exec.v0+json';\n",
       "  const CLASS_NAME = 'output_bokeh rendered_html';\n",
       "\n",
       "  /**\n",
       "   * Render data to the DOM node\n",
       "   */\n",
       "  function render(props, node) {\n",
       "    const script = document.createElement(\"script\");\n",
       "    node.appendChild(script);\n",
       "  }\n",
       "\n",
       "  /**\n",
       "   * Handle when an output is cleared or removed\n",
       "   */\n",
       "  function handleClearOutput(event, handle) {\n",
       "    const cell = handle.cell;\n",
       "\n",
       "    const id = cell.output_area._bokeh_element_id;\n",
       "    const server_id = cell.output_area._bokeh_server_id;\n",
       "    // Clean up Bokeh references\n",
       "    if (id != null && id in Bokeh.index) {\n",
       "      Bokeh.index[id].model.document.clear();\n",
       "      delete Bokeh.index[id];\n",
       "    }\n",
       "\n",
       "    if (server_id !== undefined) {\n",
       "      // Clean up Bokeh references\n",
       "      const cmd_clean = \"from bokeh.io.state import curstate; print(curstate().uuid_to_server['\" + server_id + \"'].get_sessions()[0].document.roots[0]._id)\";\n",
       "      cell.notebook.kernel.execute(cmd_clean, {\n",
       "        iopub: {\n",
       "          output: function(msg) {\n",
       "            const id = msg.content.text.trim();\n",
       "            if (id in Bokeh.index) {\n",
       "              Bokeh.index[id].model.document.clear();\n",
       "              delete Bokeh.index[id];\n",
       "            }\n",
       "          }\n",
       "        }\n",
       "      });\n",
       "      // Destroy server and session\n",
       "      const cmd_destroy = \"import bokeh.io.notebook as ion; ion.destroy_server('\" + server_id + \"')\";\n",
       "      cell.notebook.kernel.execute(cmd_destroy);\n",
       "    }\n",
       "  }\n",
       "\n",
       "  /**\n",
       "   * Handle when a new output is added\n",
       "   */\n",
       "  function handleAddOutput(event, handle) {\n",
       "    const output_area = handle.output_area;\n",
       "    const output = handle.output;\n",
       "\n",
       "    // limit handleAddOutput to display_data with EXEC_MIME_TYPE content only\n",
       "    if ((output.output_type != \"display_data\") || (!Object.prototype.hasOwnProperty.call(output.data, EXEC_MIME_TYPE))) {\n",
       "      return\n",
       "    }\n",
       "\n",
       "    const toinsert = output_area.element.find(\".\" + CLASS_NAME.split(' ')[0]);\n",
       "\n",
       "    if (output.metadata[EXEC_MIME_TYPE][\"id\"] !== undefined) {\n",
       "      toinsert[toinsert.length - 1].firstChild.textContent = output.data[JS_MIME_TYPE];\n",
       "      // store reference to embed id on output_area\n",
       "      output_area._bokeh_element_id = output.metadata[EXEC_MIME_TYPE][\"id\"];\n",
       "    }\n",
       "    if (output.metadata[EXEC_MIME_TYPE][\"server_id\"] !== undefined) {\n",
       "      const bk_div = document.createElement(\"div\");\n",
       "      bk_div.innerHTML = output.data[HTML_MIME_TYPE];\n",
       "      const script_attrs = bk_div.children[0].attributes;\n",
       "      for (let i = 0; i < script_attrs.length; i++) {\n",
       "        toinsert[toinsert.length - 1].firstChild.setAttribute(script_attrs[i].name, script_attrs[i].value);\n",
       "        toinsert[toinsert.length - 1].firstChild.textContent = bk_div.children[0].textContent\n",
       "      }\n",
       "      // store reference to server id on output_area\n",
       "      output_area._bokeh_server_id = output.metadata[EXEC_MIME_TYPE][\"server_id\"];\n",
       "    }\n",
       "  }\n",
       "\n",
       "  function register_renderer(events, OutputArea) {\n",
       "\n",
       "    function append_mime(data, metadata, element) {\n",
       "      // create a DOM node to render to\n",
       "      const toinsert = this.create_output_subarea(\n",
       "        metadata,\n",
       "        CLASS_NAME,\n",
       "        EXEC_MIME_TYPE\n",
       "      );\n",
       "      this.keyboard_manager.register_events(toinsert);\n",
       "      // Render to node\n",
       "      const props = {data: data, metadata: metadata[EXEC_MIME_TYPE]};\n",
       "      render(props, toinsert[toinsert.length - 1]);\n",
       "      element.append(toinsert);\n",
       "      return toinsert\n",
       "    }\n",
       "\n",
       "    /* Handle when an output is cleared or removed */\n",
       "    events.on('clear_output.CodeCell', handleClearOutput);\n",
       "    events.on('delete.Cell', handleClearOutput);\n",
       "\n",
       "    /* Handle when a new output is added */\n",
       "    events.on('output_added.OutputArea', handleAddOutput);\n",
       "\n",
       "    /**\n",
       "     * Register the mime type and append_mime function with output_area\n",
       "     */\n",
       "    OutputArea.prototype.register_mime_type(EXEC_MIME_TYPE, append_mime, {\n",
       "      /* Is output safe? */\n",
       "      safe: true,\n",
       "      /* Index of renderer in `output_area.display_order` */\n",
       "      index: 0\n",
       "    });\n",
       "  }\n",
       "\n",
       "  // register the mime type if in Jupyter Notebook environment and previously unregistered\n",
       "  if (root.Jupyter !== undefined) {\n",
       "    const events = require('base/js/events');\n",
       "    const OutputArea = require('notebook/js/outputarea').OutputArea;\n",
       "\n",
       "    if (OutputArea.prototype.mime_types().indexOf(EXEC_MIME_TYPE) == -1) {\n",
       "      register_renderer(events, OutputArea);\n",
       "    }\n",
       "  }\n",
       "\n",
       "  \n",
       "  if (typeof (root._bokeh_timeout) === \"undefined\" || force === true) {\n",
       "    root._bokeh_timeout = Date.now() + 5000;\n",
       "    root._bokeh_failed_load = false;\n",
       "  }\n",
       "\n",
       "  const NB_LOAD_WARNING = {'data': {'text/html':\n",
       "     \"<div style='background-color: #fdd'>\\n\"+\n",
       "     \"<p>\\n\"+\n",
       "     \"BokehJS does not appear to have successfully loaded. If loading BokehJS from CDN, this \\n\"+\n",
       "     \"may be due to a slow or bad network connection. Possible fixes:\\n\"+\n",
       "     \"</p>\\n\"+\n",
       "     \"<ul>\\n\"+\n",
       "     \"<li>re-rerun `output_notebook()` to attempt to load from CDN again, or</li>\\n\"+\n",
       "     \"<li>use INLINE resources instead, as so:</li>\\n\"+\n",
       "     \"</ul>\\n\"+\n",
       "     \"<code>\\n\"+\n",
       "     \"from bokeh.resources import INLINE\\n\"+\n",
       "     \"output_notebook(resources=INLINE)\\n\"+\n",
       "     \"</code>\\n\"+\n",
       "     \"</div>\"}};\n",
       "\n",
       "  function display_loaded() {\n",
       "    const el = document.getElementById(\"1424\");\n",
       "    if (el != null) {\n",
       "      el.textContent = \"BokehJS is loading...\";\n",
       "    }\n",
       "    if (root.Bokeh !== undefined) {\n",
       "      if (el != null) {\n",
       "        el.textContent = \"BokehJS \" + root.Bokeh.version + \" successfully loaded.\";\n",
       "      }\n",
       "    } else if (Date.now() < root._bokeh_timeout) {\n",
       "      setTimeout(display_loaded, 100)\n",
       "    }\n",
       "  }\n",
       "\n",
       "\n",
       "  function run_callbacks() {\n",
       "    try {\n",
       "      root._bokeh_onload_callbacks.forEach(function(callback) {\n",
       "        if (callback != null)\n",
       "          callback();\n",
       "      });\n",
       "    } finally {\n",
       "      delete root._bokeh_onload_callbacks\n",
       "    }\n",
       "    console.debug(\"Bokeh: all callbacks have finished\");\n",
       "  }\n",
       "\n",
       "  function load_libs(css_urls, js_urls, callback) {\n",
       "    if (css_urls == null) css_urls = [];\n",
       "    if (js_urls == null) js_urls = [];\n",
       "\n",
       "    root._bokeh_onload_callbacks.push(callback);\n",
       "    if (root._bokeh_is_loading > 0) {\n",
       "      console.debug(\"Bokeh: BokehJS is being loaded, scheduling callback at\", now());\n",
       "      return null;\n",
       "    }\n",
       "    if (js_urls == null || js_urls.length === 0) {\n",
       "      run_callbacks();\n",
       "      return null;\n",
       "    }\n",
       "    console.debug(\"Bokeh: BokehJS not loaded, scheduling load and callback at\", now());\n",
       "    root._bokeh_is_loading = css_urls.length + js_urls.length;\n",
       "\n",
       "    function on_load() {\n",
       "      root._bokeh_is_loading--;\n",
       "      if (root._bokeh_is_loading === 0) {\n",
       "        console.debug(\"Bokeh: all BokehJS libraries/stylesheets loaded\");\n",
       "        run_callbacks()\n",
       "      }\n",
       "    }\n",
       "\n",
       "    function on_error(url) {\n",
       "      console.error(\"failed to load \" + url);\n",
       "    }\n",
       "\n",
       "    for (let i = 0; i < css_urls.length; i++) {\n",
       "      const url = css_urls[i];\n",
       "      const element = document.createElement(\"link\");\n",
       "      element.onload = on_load;\n",
       "      element.onerror = on_error.bind(null, url);\n",
       "      element.rel = \"stylesheet\";\n",
       "      element.type = \"text/css\";\n",
       "      element.href = url;\n",
       "      console.debug(\"Bokeh: injecting link tag for BokehJS stylesheet: \", url);\n",
       "      document.body.appendChild(element);\n",
       "    }\n",
       "\n",
       "    for (let i = 0; i < js_urls.length; i++) {\n",
       "      const url = js_urls[i];\n",
       "      const element = document.createElement('script');\n",
       "      element.onload = on_load;\n",
       "      element.onerror = on_error.bind(null, url);\n",
       "      element.async = false;\n",
       "      element.src = url;\n",
       "      console.debug(\"Bokeh: injecting script tag for BokehJS library: \", url);\n",
       "      document.head.appendChild(element);\n",
       "    }\n",
       "  };\n",
       "\n",
       "  function inject_raw_css(css) {\n",
       "    const element = document.createElement(\"style\");\n",
       "    element.appendChild(document.createTextNode(css));\n",
       "    document.body.appendChild(element);\n",
       "  }\n",
       "\n",
       "  \n",
       "  const js_urls = [\"https://cdn.bokeh.org/bokeh/release/bokeh-2.4.2.min.js\", \"https://cdn.bokeh.org/bokeh/release/bokeh-gl-2.4.2.min.js\", \"https://cdn.bokeh.org/bokeh/release/bokeh-widgets-2.4.2.min.js\", \"https://cdn.bokeh.org/bokeh/release/bokeh-tables-2.4.2.min.js\", \"https://cdn.bokeh.org/bokeh/release/bokeh-mathjax-2.4.2.min.js\"];\n",
       "  const css_urls = [];\n",
       "  \n",
       "\n",
       "  const inline_js = [\n",
       "    function(Bokeh) {\n",
       "      Bokeh.set_log_level(\"info\");\n",
       "    },\n",
       "    function(Bokeh) {\n",
       "    \n",
       "    \n",
       "    }\n",
       "  ];\n",
       "\n",
       "  function run_inline_js() {\n",
       "    \n",
       "    if (root.Bokeh !== undefined || force === true) {\n",
       "      \n",
       "    for (let i = 0; i < inline_js.length; i++) {\n",
       "      inline_js[i].call(root, root.Bokeh);\n",
       "    }\n",
       "    if (force === true) {\n",
       "        display_loaded();\n",
       "      }} else if (Date.now() < root._bokeh_timeout) {\n",
       "      setTimeout(run_inline_js, 100);\n",
       "    } else if (!root._bokeh_failed_load) {\n",
       "      console.log(\"Bokeh: BokehJS failed to load within specified timeout.\");\n",
       "      root._bokeh_failed_load = true;\n",
       "    } else if (force !== true) {\n",
       "      const cell = $(document.getElementById(\"1424\")).parents('.cell').data().cell;\n",
       "      cell.output_area.append_execute_result(NB_LOAD_WARNING)\n",
       "    }\n",
       "\n",
       "  }\n",
       "\n",
       "  if (root._bokeh_is_loading === 0) {\n",
       "    console.debug(\"Bokeh: BokehJS loaded, going straight to plotting\");\n",
       "    run_inline_js();\n",
       "  } else {\n",
       "    load_libs(css_urls, js_urls, function() {\n",
       "      console.debug(\"Bokeh: BokehJS plotting callback run at\", now());\n",
       "      run_inline_js();\n",
       "    });\n",
       "  }\n",
       "}(window));"
      ],
      "application/vnd.bokehjs_load.v0+json": "\n(function(root) {\n  function now() {\n    return new Date();\n  }\n\n  const force = true;\n\n  if (typeof root._bokeh_onload_callbacks === \"undefined\" || force === true) {\n    root._bokeh_onload_callbacks = [];\n    root._bokeh_is_loading = undefined;\n  }\n\n  \n\n  \n  if (typeof (root._bokeh_timeout) === \"undefined\" || force === true) {\n    root._bokeh_timeout = Date.now() + 5000;\n    root._bokeh_failed_load = false;\n  }\n\n  const NB_LOAD_WARNING = {'data': {'text/html':\n     \"<div style='background-color: #fdd'>\\n\"+\n     \"<p>\\n\"+\n     \"BokehJS does not appear to have successfully loaded. If loading BokehJS from CDN, this \\n\"+\n     \"may be due to a slow or bad network connection. Possible fixes:\\n\"+\n     \"</p>\\n\"+\n     \"<ul>\\n\"+\n     \"<li>re-rerun `output_notebook()` to attempt to load from CDN again, or</li>\\n\"+\n     \"<li>use INLINE resources instead, as so:</li>\\n\"+\n     \"</ul>\\n\"+\n     \"<code>\\n\"+\n     \"from bokeh.resources import INLINE\\n\"+\n     \"output_notebook(resources=INLINE)\\n\"+\n     \"</code>\\n\"+\n     \"</div>\"}};\n\n  function display_loaded() {\n    const el = document.getElementById(\"1424\");\n    if (el != null) {\n      el.textContent = \"BokehJS is loading...\";\n    }\n    if (root.Bokeh !== undefined) {\n      if (el != null) {\n        el.textContent = \"BokehJS \" + root.Bokeh.version + \" successfully loaded.\";\n      }\n    } else if (Date.now() < root._bokeh_timeout) {\n      setTimeout(display_loaded, 100)\n    }\n  }\n\n\n  function run_callbacks() {\n    try {\n      root._bokeh_onload_callbacks.forEach(function(callback) {\n        if (callback != null)\n          callback();\n      });\n    } finally {\n      delete root._bokeh_onload_callbacks\n    }\n    console.debug(\"Bokeh: all callbacks have finished\");\n  }\n\n  function load_libs(css_urls, js_urls, callback) {\n    if (css_urls == null) css_urls = [];\n    if (js_urls == null) js_urls = [];\n\n    root._bokeh_onload_callbacks.push(callback);\n    if (root._bokeh_is_loading > 0) {\n      console.debug(\"Bokeh: BokehJS is being loaded, scheduling callback at\", now());\n      return null;\n    }\n    if (js_urls == null || js_urls.length === 0) {\n      run_callbacks();\n      return null;\n    }\n    console.debug(\"Bokeh: BokehJS not loaded, scheduling load and callback at\", now());\n    root._bokeh_is_loading = css_urls.length + js_urls.length;\n\n    function on_load() {\n      root._bokeh_is_loading--;\n      if (root._bokeh_is_loading === 0) {\n        console.debug(\"Bokeh: all BokehJS libraries/stylesheets loaded\");\n        run_callbacks()\n      }\n    }\n\n    function on_error(url) {\n      console.error(\"failed to load \" + url);\n    }\n\n    for (let i = 0; i < css_urls.length; i++) {\n      const url = css_urls[i];\n      const element = document.createElement(\"link\");\n      element.onload = on_load;\n      element.onerror = on_error.bind(null, url);\n      element.rel = \"stylesheet\";\n      element.type = \"text/css\";\n      element.href = url;\n      console.debug(\"Bokeh: injecting link tag for BokehJS stylesheet: \", url);\n      document.body.appendChild(element);\n    }\n\n    for (let i = 0; i < js_urls.length; i++) {\n      const url = js_urls[i];\n      const element = document.createElement('script');\n      element.onload = on_load;\n      element.onerror = on_error.bind(null, url);\n      element.async = false;\n      element.src = url;\n      console.debug(\"Bokeh: injecting script tag for BokehJS library: \", url);\n      document.head.appendChild(element);\n    }\n  };\n\n  function inject_raw_css(css) {\n    const element = document.createElement(\"style\");\n    element.appendChild(document.createTextNode(css));\n    document.body.appendChild(element);\n  }\n\n  \n  const js_urls = [\"https://cdn.bokeh.org/bokeh/release/bokeh-2.4.2.min.js\", \"https://cdn.bokeh.org/bokeh/release/bokeh-gl-2.4.2.min.js\", \"https://cdn.bokeh.org/bokeh/release/bokeh-widgets-2.4.2.min.js\", \"https://cdn.bokeh.org/bokeh/release/bokeh-tables-2.4.2.min.js\", \"https://cdn.bokeh.org/bokeh/release/bokeh-mathjax-2.4.2.min.js\"];\n  const css_urls = [];\n  \n\n  const inline_js = [\n    function(Bokeh) {\n      Bokeh.set_log_level(\"info\");\n    },\n    function(Bokeh) {\n    \n    \n    }\n  ];\n\n  function run_inline_js() {\n    \n    if (root.Bokeh !== undefined || force === true) {\n      \n    for (let i = 0; i < inline_js.length; i++) {\n      inline_js[i].call(root, root.Bokeh);\n    }\n    if (force === true) {\n        display_loaded();\n      }} else if (Date.now() < root._bokeh_timeout) {\n      setTimeout(run_inline_js, 100);\n    } else if (!root._bokeh_failed_load) {\n      console.log(\"Bokeh: BokehJS failed to load within specified timeout.\");\n      root._bokeh_failed_load = true;\n    } else if (force !== true) {\n      const cell = $(document.getElementById(\"1424\")).parents('.cell').data().cell;\n      cell.output_area.append_execute_result(NB_LOAD_WARNING)\n    }\n\n  }\n\n  if (root._bokeh_is_loading === 0) {\n    console.debug(\"Bokeh: BokehJS loaded, going straight to plotting\");\n    run_inline_js();\n  } else {\n    load_libs(css_urls, js_urls, function() {\n      console.debug(\"Bokeh: BokehJS plotting callback run at\", now());\n      run_inline_js();\n    });\n  }\n}(window));"
     },
     "metadata": {},
     "output_type": "display_data"
    },
    {
     "data": {
      "text/html": [
       "\n",
       "\n",
       "\n",
       "\n",
       "\n",
       "\n",
       "  <div class=\"bk-root\" id=\"d1021b82-8e01-4046-902b-90f1268dea6e\" data-root-id=\"1425\"></div>\n"
      ]
     },
     "metadata": {},
     "output_type": "display_data"
    },
    {
     "data": {
      "application/javascript": [
       "(function(root) {\n",
       "  function embed_document(root) {\n",
       "    \n",
       "  const docs_json = {\"ea84f935-ab60-413b-beb3-3ff7ace9d7c5\":{\"defs\":[],\"roots\":{\"references\":[{\"attributes\":{\"children\":[{\"id\":\"1313\"},{\"id\":\"1350\"},{\"id\":\"1387\"}]},\"id\":\"1425\",\"type\":\"Row\"},{\"attributes\":{\"source\":{\"id\":\"1344\"}},\"id\":\"1349\",\"type\":\"CDSView\"},{\"attributes\":{},\"id\":\"1327\",\"type\":\"BasicTicker\"},{\"attributes\":{\"coordinates\":null,\"formatter\":{\"id\":\"1466\"},\"group\":null,\"major_label_policy\":{\"id\":\"1467\"},\"ticker\":{\"id\":\"1327\"}},\"id\":\"1326\",\"type\":\"LinearAxis\"},{\"attributes\":{},\"id\":\"1335\",\"type\":\"HelpTool\"},{\"attributes\":{},\"id\":\"1334\",\"type\":\"ResetTool\"},{\"attributes\":{\"bottom_units\":\"screen\",\"coordinates\":null,\"fill_alpha\":0.5,\"fill_color\":\"lightgrey\",\"group\":null,\"left_units\":\"screen\",\"level\":\"overlay\",\"line_alpha\":1.0,\"line_color\":\"black\",\"line_dash\":[4,4],\"line_width\":2,\"right_units\":\"screen\",\"syncable\":false,\"top_units\":\"screen\"},\"id\":\"1336\",\"type\":\"BoxAnnotation\"},{\"attributes\":{\"bottom_units\":\"screen\",\"coordinates\":null,\"fill_alpha\":0.5,\"fill_color\":\"lightgrey\",\"group\":null,\"left_units\":\"screen\",\"level\":\"overlay\",\"line_alpha\":1.0,\"line_color\":\"black\",\"line_dash\":[4,4],\"line_width\":2,\"right_units\":\"screen\",\"syncable\":false,\"top_units\":\"screen\"},\"id\":\"1410\",\"type\":\"BoxAnnotation\"},{\"attributes\":{\"tools\":[{\"id\":\"1330\"},{\"id\":\"1331\"},{\"id\":\"1332\"},{\"id\":\"1333\"},{\"id\":\"1334\"},{\"id\":\"1335\"}]},\"id\":\"1337\",\"type\":\"Toolbar\"},{\"attributes\":{\"data\":{\"x\":[0,1,2,3,4,5,6,7,8,9,10],\"y\":[0,1,2,3,4,5,6,7,8,9,10]},\"selected\":{\"id\":\"1484\"},\"selection_policy\":{\"id\":\"1483\"}},\"id\":\"1344\",\"type\":\"ColumnDataSource\"},{\"attributes\":{\"fill_alpha\":{\"value\":0.1},\"fill_color\":{\"value\":\"#c02942\"},\"hatch_alpha\":{\"value\":0.1},\"hatch_color\":{\"value\":\"#c02942\"},\"line_alpha\":{\"value\":0.1},\"line_color\":{\"value\":\"#c02942\"},\"marker\":{\"value\":\"triangle\"},\"size\":{\"value\":12},\"x\":{\"field\":\"x\"},\"y\":{\"field\":\"y\"}},\"id\":\"1383\",\"type\":\"Scatter\"},{\"attributes\":{},\"id\":\"1351\",\"type\":\"DataRange1d\"},{\"attributes\":{\"fill_alpha\":{\"value\":0.2},\"fill_color\":{\"value\":\"#53777a\"},\"hatch_alpha\":{\"value\":0.2},\"hatch_color\":{\"value\":\"#53777a\"},\"line_alpha\":{\"value\":0.2},\"line_color\":{\"value\":\"#53777a\"},\"size\":{\"value\":12},\"x\":{\"field\":\"x\"},\"y\":{\"field\":\"y\"}},\"id\":\"1347\",\"type\":\"Circle\"},{\"attributes\":{\"coordinates\":null,\"data_source\":{\"id\":\"1344\"},\"glyph\":{\"id\":\"1345\"},\"group\":null,\"hover_glyph\":null,\"muted_glyph\":{\"id\":\"1347\"},\"nonselection_glyph\":{\"id\":\"1346\"},\"view\":{\"id\":\"1349\"}},\"id\":\"1348\",\"type\":\"GlyphRenderer\"},{\"attributes\":{\"coordinates\":null,\"group\":null},\"id\":\"1459\",\"type\":\"Title\"},{\"attributes\":{},\"id\":\"1353\",\"type\":\"DataRange1d\"},{\"attributes\":{},\"id\":\"1360\",\"type\":\"BasicTicker\"},{\"attributes\":{\"axis\":{\"id\":\"1326\"},\"coordinates\":null,\"dimension\":1,\"group\":null,\"ticker\":null},\"id\":\"1329\",\"type\":\"Grid\"},{\"attributes\":{},\"id\":\"1355\",\"type\":\"LinearScale\"},{\"attributes\":{\"background_fill_color\":\"#fafafa\",\"below\":[{\"id\":\"1322\"}],\"center\":[{\"id\":\"1325\"},{\"id\":\"1329\"}],\"height\":250,\"left\":[{\"id\":\"1326\"}],\"renderers\":[{\"id\":\"1348\"}],\"title\":{\"id\":\"1459\"},\"toolbar\":{\"id\":\"1337\"},\"width\":250,\"x_range\":{\"id\":\"1314\"},\"x_scale\":{\"id\":\"1318\"},\"y_range\":{\"id\":\"1316\"},\"y_scale\":{\"id\":\"1320\"}},\"id\":\"1313\",\"subtype\":\"Figure\",\"type\":\"Plot\"},{\"attributes\":{},\"id\":\"1357\",\"type\":\"LinearScale\"},{\"attributes\":{\"axis\":{\"id\":\"1322\"},\"coordinates\":null,\"group\":null,\"ticker\":null},\"id\":\"1325\",\"type\":\"Grid\"},{\"attributes\":{\"coordinates\":null,\"formatter\":{\"id\":\"1475\"},\"group\":null,\"major_label_policy\":{\"id\":\"1476\"},\"ticker\":{\"id\":\"1360\"}},\"id\":\"1359\",\"type\":\"LinearAxis\"},{\"attributes\":{},\"id\":\"1316\",\"type\":\"DataRange1d\"},{\"attributes\":{},\"id\":\"1314\",\"type\":\"DataRange1d\"},{\"attributes\":{\"axis\":{\"id\":\"1359\"},\"coordinates\":null,\"group\":null,\"ticker\":null},\"id\":\"1362\",\"type\":\"Grid\"},{\"attributes\":{},\"id\":\"1364\",\"type\":\"BasicTicker\"},{\"attributes\":{\"coordinates\":null,\"formatter\":{\"id\":\"1472\"},\"group\":null,\"major_label_policy\":{\"id\":\"1473\"},\"ticker\":{\"id\":\"1364\"}},\"id\":\"1363\",\"type\":\"LinearAxis\"},{\"attributes\":{},\"id\":\"1323\",\"type\":\"BasicTicker\"},{\"attributes\":{},\"id\":\"1318\",\"type\":\"LinearScale\"},{\"attributes\":{\"axis\":{\"id\":\"1363\"},\"coordinates\":null,\"dimension\":1,\"group\":null,\"ticker\":null},\"id\":\"1366\",\"type\":\"Grid\"},{\"attributes\":{},\"id\":\"1320\",\"type\":\"LinearScale\"},{\"attributes\":{\"coordinates\":null,\"formatter\":{\"id\":\"1469\"},\"group\":null,\"major_label_policy\":{\"id\":\"1470\"},\"ticker\":{\"id\":\"1323\"}},\"id\":\"1322\",\"type\":\"LinearAxis\"},{\"attributes\":{\"data\":{\"x\":[0,1,2,3,4,5,6,7,8,9,10],\"y\":[10,9,8,7,6,5,4,3,2,1,0]},\"selected\":{\"id\":\"1487\"},\"selection_policy\":{\"id\":\"1486\"}},\"id\":\"1381\",\"type\":\"ColumnDataSource\"},{\"attributes\":{\"fill_alpha\":{\"value\":0.8},\"fill_color\":{\"value\":\"#c02942\"},\"hatch_alpha\":{\"value\":0.8},\"hatch_color\":{\"value\":\"#c02942\"},\"line_alpha\":{\"value\":0.8},\"line_color\":{\"value\":\"#c02942\"},\"marker\":{\"value\":\"triangle\"},\"size\":{\"value\":12},\"x\":{\"field\":\"x\"},\"y\":{\"field\":\"y\"}},\"id\":\"1382\",\"type\":\"Scatter\"},{\"attributes\":{\"background_fill_color\":\"#fafafa\",\"below\":[{\"id\":\"1359\"}],\"center\":[{\"id\":\"1362\"},{\"id\":\"1366\"}],\"height\":250,\"left\":[{\"id\":\"1363\"}],\"renderers\":[{\"id\":\"1385\"}],\"title\":{\"id\":\"1461\"},\"toolbar\":{\"id\":\"1374\"},\"width\":250,\"x_range\":{\"id\":\"1351\"},\"x_scale\":{\"id\":\"1355\"},\"y_range\":{\"id\":\"1353\"},\"y_scale\":{\"id\":\"1357\"}},\"id\":\"1350\",\"subtype\":\"Figure\",\"type\":\"Plot\"},{\"attributes\":{\"background_fill_color\":\"#fafafa\",\"below\":[{\"id\":\"1396\"}],\"center\":[{\"id\":\"1399\"},{\"id\":\"1403\"}],\"height\":250,\"left\":[{\"id\":\"1400\"}],\"renderers\":[{\"id\":\"1422\"}],\"title\":{\"id\":\"1463\"},\"toolbar\":{\"id\":\"1411\"},\"width\":250,\"x_range\":{\"id\":\"1388\"},\"x_scale\":{\"id\":\"1392\"},\"y_range\":{\"id\":\"1390\"},\"y_scale\":{\"id\":\"1394\"}},\"id\":\"1387\",\"subtype\":\"Figure\",\"type\":\"Plot\"},{\"attributes\":{},\"id\":\"1367\",\"type\":\"PanTool\"},{\"attributes\":{},\"id\":\"1371\",\"type\":\"ResetTool\"},{\"attributes\":{},\"id\":\"1368\",\"type\":\"WheelZoomTool\"},{\"attributes\":{},\"id\":\"1489\",\"type\":\"UnionRenderers\"},{\"attributes\":{\"overlay\":{\"id\":\"1373\"}},\"id\":\"1369\",\"type\":\"BoxZoomTool\"},{\"attributes\":{},\"id\":\"1466\",\"type\":\"BasicTickFormatter\"},{\"attributes\":{},\"id\":\"1370\",\"type\":\"SaveTool\"},{\"attributes\":{\"source\":{\"id\":\"1418\"}},\"id\":\"1423\",\"type\":\"CDSView\"},{\"attributes\":{},\"id\":\"1404\",\"type\":\"PanTool\"},{\"attributes\":{},\"id\":\"1408\",\"type\":\"ResetTool\"},{\"attributes\":{},\"id\":\"1405\",\"type\":\"WheelZoomTool\"},{\"attributes\":{},\"id\":\"1372\",\"type\":\"HelpTool\"},{\"attributes\":{\"overlay\":{\"id\":\"1410\"}},\"id\":\"1406\",\"type\":\"BoxZoomTool\"},{\"attributes\":{},\"id\":\"1467\",\"type\":\"AllLabels\"},{\"attributes\":{},\"id\":\"1407\",\"type\":\"SaveTool\"},{\"attributes\":{},\"id\":\"1409\",\"type\":\"HelpTool\"},{\"attributes\":{\"tools\":[{\"id\":\"1367\"},{\"id\":\"1368\"},{\"id\":\"1369\"},{\"id\":\"1370\"},{\"id\":\"1371\"},{\"id\":\"1372\"}]},\"id\":\"1374\",\"type\":\"Toolbar\"},{\"attributes\":{\"tools\":[{\"id\":\"1404\"},{\"id\":\"1405\"},{\"id\":\"1406\"},{\"id\":\"1407\"},{\"id\":\"1408\"},{\"id\":\"1409\"}]},\"id\":\"1411\",\"type\":\"Toolbar\"},{\"attributes\":{\"bottom_units\":\"screen\",\"coordinates\":null,\"fill_alpha\":0.5,\"fill_color\":\"lightgrey\",\"group\":null,\"left_units\":\"screen\",\"level\":\"overlay\",\"line_alpha\":1.0,\"line_color\":\"black\",\"line_dash\":[4,4],\"line_width\":2,\"right_units\":\"screen\",\"syncable\":false,\"top_units\":\"screen\"},\"id\":\"1373\",\"type\":\"BoxAnnotation\"},{\"attributes\":{\"coordinates\":null,\"group\":null},\"id\":\"1461\",\"type\":\"Title\"},{\"attributes\":{\"coordinates\":null,\"group\":null},\"id\":\"1463\",\"type\":\"Title\"},{\"attributes\":{},\"id\":\"1470\",\"type\":\"AllLabels\"},{\"attributes\":{},\"id\":\"1469\",\"type\":\"BasicTickFormatter\"},{\"attributes\":{},\"id\":\"1473\",\"type\":\"AllLabels\"},{\"attributes\":{\"coordinates\":null,\"data_source\":{\"id\":\"1381\"},\"glyph\":{\"id\":\"1382\"},\"group\":null,\"hover_glyph\":null,\"muted_glyph\":{\"id\":\"1384\"},\"nonselection_glyph\":{\"id\":\"1383\"},\"view\":{\"id\":\"1386\"}},\"id\":\"1385\",\"type\":\"GlyphRenderer\"},{\"attributes\":{},\"id\":\"1475\",\"type\":\"BasicTickFormatter\"},{\"attributes\":{\"fill_alpha\":{\"value\":0.1},\"fill_color\":{\"value\":\"#d95b43\"},\"hatch_alpha\":{\"value\":0.1},\"hatch_color\":{\"value\":\"#d95b43\"},\"line_alpha\":{\"value\":0.1},\"line_color\":{\"value\":\"#d95b43\"},\"marker\":{\"value\":\"square\"},\"size\":{\"value\":12},\"x\":{\"field\":\"x\"},\"y\":{\"field\":\"y\"}},\"id\":\"1420\",\"type\":\"Scatter\"},{\"attributes\":{},\"id\":\"1472\",\"type\":\"BasicTickFormatter\"},{\"attributes\":{\"coordinates\":null,\"data_source\":{\"id\":\"1418\"},\"glyph\":{\"id\":\"1419\"},\"group\":null,\"hover_glyph\":null,\"muted_glyph\":{\"id\":\"1421\"},\"nonselection_glyph\":{\"id\":\"1420\"},\"view\":{\"id\":\"1423\"}},\"id\":\"1422\",\"type\":\"GlyphRenderer\"},{\"attributes\":{},\"id\":\"1330\",\"type\":\"PanTool\"},{\"attributes\":{\"fill_alpha\":{\"value\":0.2},\"fill_color\":{\"value\":\"#d95b43\"},\"hatch_alpha\":{\"value\":0.2},\"hatch_color\":{\"value\":\"#d95b43\"},\"line_alpha\":{\"value\":0.2},\"line_color\":{\"value\":\"#d95b43\"},\"marker\":{\"value\":\"square\"},\"size\":{\"value\":12},\"x\":{\"field\":\"x\"},\"y\":{\"field\":\"y\"}},\"id\":\"1421\",\"type\":\"Scatter\"},{\"attributes\":{\"source\":{\"id\":\"1381\"}},\"id\":\"1386\",\"type\":\"CDSView\"},{\"attributes\":{},\"id\":\"1476\",\"type\":\"AllLabels\"},{\"attributes\":{\"fill_alpha\":{\"value\":0.8},\"fill_color\":{\"value\":\"#d95b43\"},\"hatch_alpha\":{\"value\":0.8},\"hatch_color\":{\"value\":\"#d95b43\"},\"line_alpha\":{\"value\":0.8},\"line_color\":{\"value\":\"#d95b43\"},\"marker\":{\"value\":\"square\"},\"size\":{\"value\":12},\"x\":{\"field\":\"x\"},\"y\":{\"field\":\"y\"}},\"id\":\"1419\",\"type\":\"Scatter\"},{\"attributes\":{},\"id\":\"1479\",\"type\":\"AllLabels\"},{\"attributes\":{\"fill_alpha\":{\"value\":0.2},\"fill_color\":{\"value\":\"#c02942\"},\"hatch_alpha\":{\"value\":0.2},\"hatch_color\":{\"value\":\"#c02942\"},\"line_alpha\":{\"value\":0.2},\"line_color\":{\"value\":\"#c02942\"},\"marker\":{\"value\":\"triangle\"},\"size\":{\"value\":12},\"x\":{\"field\":\"x\"},\"y\":{\"field\":\"y\"}},\"id\":\"1384\",\"type\":\"Scatter\"},{\"attributes\":{},\"id\":\"1481\",\"type\":\"BasicTickFormatter\"},{\"attributes\":{},\"id\":\"1388\",\"type\":\"DataRange1d\"},{\"attributes\":{},\"id\":\"1333\",\"type\":\"SaveTool\"},{\"attributes\":{},\"id\":\"1478\",\"type\":\"BasicTickFormatter\"},{\"attributes\":{},\"id\":\"1482\",\"type\":\"AllLabels\"},{\"attributes\":{},\"id\":\"1390\",\"type\":\"DataRange1d\"},{\"attributes\":{},\"id\":\"1483\",\"type\":\"UnionRenderers\"},{\"attributes\":{},\"id\":\"1484\",\"type\":\"Selection\"},{\"attributes\":{},\"id\":\"1397\",\"type\":\"BasicTicker\"},{\"attributes\":{},\"id\":\"1392\",\"type\":\"LinearScale\"},{\"attributes\":{},\"id\":\"1394\",\"type\":\"LinearScale\"},{\"attributes\":{},\"id\":\"1486\",\"type\":\"UnionRenderers\"},{\"attributes\":{\"coordinates\":null,\"formatter\":{\"id\":\"1481\"},\"group\":null,\"major_label_policy\":{\"id\":\"1482\"},\"ticker\":{\"id\":\"1397\"}},\"id\":\"1396\",\"type\":\"LinearAxis\"},{\"attributes\":{\"fill_alpha\":{\"value\":0.8},\"fill_color\":{\"value\":\"#53777a\"},\"hatch_alpha\":{\"value\":0.8},\"hatch_color\":{\"value\":\"#53777a\"},\"line_alpha\":{\"value\":0.8},\"line_color\":{\"value\":\"#53777a\"},\"size\":{\"value\":12},\"x\":{\"field\":\"x\"},\"y\":{\"field\":\"y\"}},\"id\":\"1345\",\"type\":\"Circle\"},{\"attributes\":{},\"id\":\"1487\",\"type\":\"Selection\"},{\"attributes\":{\"axis\":{\"id\":\"1396\"},\"coordinates\":null,\"group\":null,\"ticker\":null},\"id\":\"1399\",\"type\":\"Grid\"},{\"attributes\":{},\"id\":\"1401\",\"type\":\"BasicTicker\"},{\"attributes\":{\"coordinates\":null,\"formatter\":{\"id\":\"1478\"},\"group\":null,\"major_label_policy\":{\"id\":\"1479\"},\"ticker\":{\"id\":\"1401\"}},\"id\":\"1400\",\"type\":\"LinearAxis\"},{\"attributes\":{\"data\":{\"x\":[0,1,2,3,4,5,6,7,8,9,10],\"y\":[5,4,3,2,1,0,1,2,3,4,5]},\"selected\":{\"id\":\"1490\"},\"selection_policy\":{\"id\":\"1489\"}},\"id\":\"1418\",\"type\":\"ColumnDataSource\"},{\"attributes\":{},\"id\":\"1490\",\"type\":\"Selection\"},{\"attributes\":{\"fill_alpha\":{\"value\":0.1},\"fill_color\":{\"value\":\"#53777a\"},\"hatch_alpha\":{\"value\":0.1},\"hatch_color\":{\"value\":\"#53777a\"},\"line_alpha\":{\"value\":0.1},\"line_color\":{\"value\":\"#53777a\"},\"size\":{\"value\":12},\"x\":{\"field\":\"x\"},\"y\":{\"field\":\"y\"}},\"id\":\"1346\",\"type\":\"Circle\"},{\"attributes\":{\"overlay\":{\"id\":\"1336\"}},\"id\":\"1332\",\"type\":\"BoxZoomTool\"},{\"attributes\":{},\"id\":\"1331\",\"type\":\"WheelZoomTool\"},{\"attributes\":{\"axis\":{\"id\":\"1400\"},\"coordinates\":null,\"dimension\":1,\"group\":null,\"ticker\":null},\"id\":\"1403\",\"type\":\"Grid\"}],\"root_ids\":[\"1425\"]},\"title\":\"Bokeh Application\",\"version\":\"2.4.2\"}};\n",
       "  const render_items = [{\"docid\":\"ea84f935-ab60-413b-beb3-3ff7ace9d7c5\",\"root_ids\":[\"1425\"],\"roots\":{\"1425\":\"d1021b82-8e01-4046-902b-90f1268dea6e\"}}];\n",
       "  root.Bokeh.embed.embed_items_notebook(docs_json, render_items);\n",
       "\n",
       "  }\n",
       "  if (root.Bokeh !== undefined) {\n",
       "    embed_document(root);\n",
       "  } else {\n",
       "    let attempts = 0;\n",
       "    const timer = setInterval(function(root) {\n",
       "      if (root.Bokeh !== undefined) {\n",
       "        clearInterval(timer);\n",
       "        embed_document(root);\n",
       "      } else {\n",
       "        attempts++;\n",
       "        if (attempts > 100) {\n",
       "          clearInterval(timer);\n",
       "          console.log(\"Bokeh: ERROR: Unable to run BokehJS code because BokehJS library is missing\");\n",
       "        }\n",
       "      }\n",
       "    }, 10, root)\n",
       "  }\n",
       "})(window);"
      ],
      "application/vnd.bokehjs_exec.v0+json": ""
     },
     "metadata": {
      "application/vnd.bokehjs_exec.v0+json": {
       "id": "1425"
      }
     },
     "output_type": "display_data"
    }
   ],
   "source": [
    "from bokeh.io import output_file, show, output_notebook\n",
    "from bokeh.layouts import row\n",
    "from bokeh.plotting import figure\n",
    "\n",
    "\n",
    "x = list(range(11))\n",
    "y0 = x\n",
    "y1 = [10 - i for i in x]\n",
    "y2 = [abs(i - 5) for i in x]\n",
    "\n",
    "# create three plots\n",
    "s1 = figure(plot_width=250, plot_height=250, background_fill_color=\"#fafafa\")\n",
    "s1.circle(x, y0, size=12, color=\"#53777a\", alpha=0.8)\n",
    "\n",
    "s2 = figure(plot_width=250, plot_height=250, background_fill_color=\"#fafafa\")\n",
    "s2.triangle(x, y1, size=12, color=\"#c02942\", alpha=0.8)\n",
    "\n",
    "s3 = figure(plot_width=250, plot_height=250, background_fill_color=\"#fafafa\")\n",
    "s3.square(x, y2, size=12, color=\"#d95b43\", alpha=0.8)\n",
    "\n",
    "# put the results in a row and show\n",
    "output_notebook()\n",
    "show(row(s1, s2, s3))"
   ]
  },
  {
   "cell_type": "markdown",
   "metadata": {
    "application/vnd.databricks.v1+cell": {
     "inputWidgets": {},
     "nuid": "5b8719a9-e6ea-4d74-9ee7-78a5f16fbeb2",
     "showTitle": false,
     "title": ""
    }
   },
   "source": [
    "**3. Grid Layout**"
   ]
  },
  {
   "cell_type": "code",
   "execution_count": 3,
   "metadata": {
    "application/vnd.databricks.v1+cell": {
     "inputWidgets": {},
     "nuid": "3d7adb6f-358e-4cd8-97ca-73911a435597",
     "showTitle": false,
     "title": ""
    }
   },
   "outputs": [
    {
     "name": "stderr",
     "output_type": "stream",
     "text": [
      "BokehDeprecationWarning: plot_width and plot_height was deprecated in Bokeh 2.4.0 and will be removed, use width or height instead.\n"
     ]
    },
    {
     "data": {
      "text/html": [
       "\n",
       "\n",
       "\n",
       "\n",
       "\n",
       "\n",
       "  <div class=\"bk-root\" id=\"c32c52c6-36c0-49ad-b61c-43dc36bf41ab\" data-root-id=\"1807\"></div>\n"
      ]
     },
     "metadata": {},
     "output_type": "display_data"
    },
    {
     "data": {
      "application/javascript": [
       "(function(root) {\n",
       "  function embed_document(root) {\n",
       "    \n",
       "  const docs_json = {\"54f50540-ab98-456b-becc-66d2a0b12e95\":{\"defs\":[],\"roots\":{\"references\":[{\"attributes\":{\"children\":[{\"id\":\"1806\"},{\"id\":\"1804\"}]},\"id\":\"1807\",\"type\":\"Column\"},{\"attributes\":{\"source\":{\"id\":\"1688\"}},\"id\":\"1693\",\"type\":\"CDSView\"},{\"attributes\":{\"source\":{\"id\":\"1762\"}},\"id\":\"1767\",\"type\":\"CDSView\"},{\"attributes\":{\"fill_alpha\":{\"value\":0.8},\"fill_color\":{\"value\":\"#c02942\"},\"hatch_alpha\":{\"value\":0.8},\"hatch_color\":{\"value\":\"#c02942\"},\"line_alpha\":{\"value\":0.8},\"line_color\":{\"value\":\"#c02942\"},\"marker\":{\"value\":\"triangle\"},\"size\":{\"value\":12},\"x\":{\"field\":\"x\"},\"y\":{\"field\":\"y\"}},\"id\":\"1726\",\"type\":\"Scatter\"},{\"attributes\":{\"fill_alpha\":{\"value\":0.2},\"fill_color\":{\"value\":\"#c02942\"},\"hatch_alpha\":{\"value\":0.2},\"hatch_color\":{\"value\":\"#c02942\"},\"line_alpha\":{\"value\":0.2},\"line_color\":{\"value\":\"#c02942\"},\"marker\":{\"value\":\"triangle\"},\"size\":{\"value\":12},\"x\":{\"field\":\"x\"},\"y\":{\"field\":\"y\"}},\"id\":\"1728\",\"type\":\"Scatter\"},{\"attributes\":{\"coordinates\":null,\"group\":null},\"id\":\"1768\",\"type\":\"Title\"},{\"attributes\":{},\"id\":\"1772\",\"type\":\"AllLabels\"},{\"attributes\":{},\"id\":\"1771\",\"type\":\"BasicTickFormatter\"},{\"attributes\":{\"fill_alpha\":{\"value\":0.2},\"fill_color\":{\"value\":\"#53777a\"},\"hatch_alpha\":{\"value\":0.2},\"hatch_color\":{\"value\":\"#53777a\"},\"line_alpha\":{\"value\":0.2},\"line_color\":{\"value\":\"#53777a\"},\"size\":{\"value\":12},\"x\":{\"field\":\"x\"},\"y\":{\"field\":\"y\"}},\"id\":\"1691\",\"type\":\"Circle\"},{\"attributes\":{},\"id\":\"1774\",\"type\":\"BasicTickFormatter\"},{\"attributes\":{\"coordinates\":null,\"data_source\":{\"id\":\"1688\"},\"glyph\":{\"id\":\"1689\"},\"group\":null,\"hover_glyph\":null,\"muted_glyph\":{\"id\":\"1691\"},\"nonselection_glyph\":{\"id\":\"1690\"},\"view\":{\"id\":\"1693\"}},\"id\":\"1692\",\"type\":\"GlyphRenderer\"},{\"attributes\":{\"fill_alpha\":{\"value\":0.1},\"fill_color\":{\"value\":\"#d95b43\"},\"hatch_alpha\":{\"value\":0.1},\"hatch_color\":{\"value\":\"#d95b43\"},\"line_alpha\":{\"value\":0.1},\"line_color\":{\"value\":\"#d95b43\"},\"marker\":{\"value\":\"square\"},\"size\":{\"value\":12},\"x\":{\"field\":\"x\"},\"y\":{\"field\":\"y\"}},\"id\":\"1764\",\"type\":\"Scatter\"},{\"attributes\":{},\"id\":\"1775\",\"type\":\"AllLabels\"},{\"attributes\":{},\"id\":\"1695\",\"type\":\"DataRange1d\"},{\"attributes\":{},\"id\":\"1697\",\"type\":\"DataRange1d\"},{\"attributes\":{},\"id\":\"1776\",\"type\":\"UnionRenderers\"},{\"attributes\":{\"coordinates\":null,\"data_source\":{\"id\":\"1725\"},\"glyph\":{\"id\":\"1726\"},\"group\":null,\"hover_glyph\":null,\"muted_glyph\":{\"id\":\"1728\"},\"nonselection_glyph\":{\"id\":\"1727\"},\"view\":{\"id\":\"1730\"}},\"id\":\"1729\",\"type\":\"GlyphRenderer\"},{\"attributes\":{\"source\":{\"id\":\"1725\"}},\"id\":\"1730\",\"type\":\"CDSView\"},{\"attributes\":{},\"id\":\"1777\",\"type\":\"Selection\"},{\"attributes\":{},\"id\":\"1783\",\"type\":\"BasicTickFormatter\"},{\"attributes\":{},\"id\":\"1704\",\"type\":\"BasicTicker\"},{\"attributes\":{},\"id\":\"1732\",\"type\":\"DataRange1d\"},{\"attributes\":{},\"id\":\"1699\",\"type\":\"LinearScale\"},{\"attributes\":{},\"id\":\"1734\",\"type\":\"DataRange1d\"},{\"attributes\":{},\"id\":\"1701\",\"type\":\"LinearScale\"},{\"attributes\":{\"coordinates\":null,\"group\":null},\"id\":\"1780\",\"type\":\"Title\"},{\"attributes\":{\"data\":{\"x\":[0,1,2,3,4,5,6,7,8,9,10],\"y\":[0,1,2,3,4,5,6,7,8,9,10]},\"selected\":{\"id\":\"1777\"},\"selection_policy\":{\"id\":\"1776\"}},\"id\":\"1688\",\"type\":\"ColumnDataSource\"},{\"attributes\":{\"fill_alpha\":{\"value\":0.8},\"fill_color\":{\"value\":\"#53777a\"},\"hatch_alpha\":{\"value\":0.8},\"hatch_color\":{\"value\":\"#53777a\"},\"line_alpha\":{\"value\":0.8},\"line_color\":{\"value\":\"#53777a\"},\"size\":{\"value\":12},\"x\":{\"field\":\"x\"},\"y\":{\"field\":\"y\"}},\"id\":\"1689\",\"type\":\"Circle\"},{\"attributes\":{\"background_fill_color\":\"#fafafa\",\"below\":[{\"id\":\"1666\"}],\"center\":[{\"id\":\"1669\"},{\"id\":\"1673\"}],\"height\":250,\"left\":[{\"id\":\"1670\"}],\"renderers\":[{\"id\":\"1692\"}],\"title\":{\"id\":\"1768\"},\"toolbar\":{\"id\":\"1681\"},\"toolbar_location\":null,\"width\":250,\"x_range\":{\"id\":\"1658\"},\"x_scale\":{\"id\":\"1662\"},\"y_range\":{\"id\":\"1660\"},\"y_scale\":{\"id\":\"1664\"}},\"id\":\"1657\",\"subtype\":\"Figure\",\"type\":\"Plot\"},{\"attributes\":{\"coordinates\":null,\"formatter\":{\"id\":\"1786\"},\"group\":null,\"major_label_policy\":{\"id\":\"1787\"},\"ticker\":{\"id\":\"1704\"}},\"id\":\"1703\",\"type\":\"LinearAxis\"},{\"attributes\":{},\"id\":\"1787\",\"type\":\"AllLabels\"},{\"attributes\":{},\"id\":\"1741\",\"type\":\"BasicTicker\"},{\"attributes\":{},\"id\":\"1658\",\"type\":\"DataRange1d\"},{\"attributes\":{},\"id\":\"1786\",\"type\":\"BasicTickFormatter\"},{\"attributes\":{},\"id\":\"1660\",\"type\":\"DataRange1d\"},{\"attributes\":{},\"id\":\"1736\",\"type\":\"LinearScale\"},{\"attributes\":{},\"id\":\"1784\",\"type\":\"AllLabels\"},{\"attributes\":{\"axis\":{\"id\":\"1703\"},\"coordinates\":null,\"group\":null,\"ticker\":null},\"id\":\"1706\",\"type\":\"Grid\"},{\"attributes\":{},\"id\":\"1738\",\"type\":\"LinearScale\"},{\"attributes\":{},\"id\":\"1708\",\"type\":\"BasicTicker\"},{\"attributes\":{},\"id\":\"1788\",\"type\":\"UnionRenderers\"},{\"attributes\":{\"coordinates\":null,\"formatter\":{\"id\":\"1783\"},\"group\":null,\"major_label_policy\":{\"id\":\"1784\"},\"ticker\":{\"id\":\"1708\"}},\"id\":\"1707\",\"type\":\"LinearAxis\"},{\"attributes\":{\"coordinates\":null,\"formatter\":{\"id\":\"1798\"},\"group\":null,\"major_label_policy\":{\"id\":\"1799\"},\"ticker\":{\"id\":\"1741\"}},\"id\":\"1740\",\"type\":\"LinearAxis\"},{\"attributes\":{\"axis\":{\"id\":\"1670\"},\"coordinates\":null,\"dimension\":1,\"group\":null,\"ticker\":null},\"id\":\"1673\",\"type\":\"Grid\"},{\"attributes\":{},\"id\":\"1789\",\"type\":\"Selection\"},{\"attributes\":{},\"id\":\"1795\",\"type\":\"BasicTickFormatter\"},{\"attributes\":{\"axis\":{\"id\":\"1740\"},\"coordinates\":null,\"group\":null,\"ticker\":null},\"id\":\"1743\",\"type\":\"Grid\"},{\"attributes\":{\"coordinates\":null,\"group\":null},\"id\":\"1792\",\"type\":\"Title\"},{\"attributes\":{},\"id\":\"1667\",\"type\":\"BasicTicker\"},{\"attributes\":{},\"id\":\"1745\",\"type\":\"BasicTicker\"},{\"attributes\":{\"axis\":{\"id\":\"1707\"},\"coordinates\":null,\"dimension\":1,\"group\":null,\"ticker\":null},\"id\":\"1710\",\"type\":\"Grid\"},{\"attributes\":{\"coordinates\":null,\"formatter\":{\"id\":\"1795\"},\"group\":null,\"major_label_policy\":{\"id\":\"1796\"},\"ticker\":{\"id\":\"1745\"}},\"id\":\"1744\",\"type\":\"LinearAxis\"},{\"attributes\":{},\"id\":\"1662\",\"type\":\"LinearScale\"},{\"attributes\":{\"coordinates\":null,\"data_source\":{\"id\":\"1762\"},\"glyph\":{\"id\":\"1763\"},\"group\":null,\"hover_glyph\":null,\"muted_glyph\":{\"id\":\"1765\"},\"nonselection_glyph\":{\"id\":\"1764\"},\"view\":{\"id\":\"1767\"}},\"id\":\"1766\",\"type\":\"GlyphRenderer\"},{\"attributes\":{},\"id\":\"1664\",\"type\":\"LinearScale\"},{\"attributes\":{\"data\":{\"x\":[0,1,2,3,4,5,6,7,8,9,10],\"y\":[10,9,8,7,6,5,4,3,2,1,0]},\"selected\":{\"id\":\"1789\"},\"selection_policy\":{\"id\":\"1788\"}},\"id\":\"1725\",\"type\":\"ColumnDataSource\"},{\"attributes\":{},\"id\":\"1799\",\"type\":\"AllLabels\"},{\"attributes\":{},\"id\":\"1679\",\"type\":\"HelpTool\"},{\"attributes\":{},\"id\":\"1798\",\"type\":\"BasicTickFormatter\"},{\"attributes\":{\"tools\":[{\"id\":\"1711\"},{\"id\":\"1712\"},{\"id\":\"1713\"},{\"id\":\"1714\"},{\"id\":\"1715\"},{\"id\":\"1716\"}]},\"id\":\"1718\",\"type\":\"Toolbar\"},{\"attributes\":{\"coordinates\":null,\"formatter\":{\"id\":\"1774\"},\"group\":null,\"major_label_policy\":{\"id\":\"1775\"},\"ticker\":{\"id\":\"1667\"}},\"id\":\"1666\",\"type\":\"LinearAxis\"},{\"attributes\":{},\"id\":\"1796\",\"type\":\"AllLabels\"},{\"attributes\":{\"background_fill_color\":\"#fafafa\",\"below\":[{\"id\":\"1740\"}],\"center\":[{\"id\":\"1743\"},{\"id\":\"1747\"}],\"height\":250,\"left\":[{\"id\":\"1744\"}],\"renderers\":[{\"id\":\"1766\"}],\"title\":{\"id\":\"1792\"},\"toolbar\":{\"id\":\"1755\"},\"toolbar_location\":null,\"width\":250,\"x_range\":{\"id\":\"1732\"},\"x_scale\":{\"id\":\"1736\"},\"y_range\":{\"id\":\"1734\"},\"y_scale\":{\"id\":\"1738\"}},\"id\":\"1731\",\"subtype\":\"Figure\",\"type\":\"Plot\"},{\"attributes\":{\"axis\":{\"id\":\"1744\"},\"coordinates\":null,\"dimension\":1,\"group\":null,\"ticker\":null},\"id\":\"1747\",\"type\":\"Grid\"},{\"attributes\":{\"bottom_units\":\"screen\",\"coordinates\":null,\"fill_alpha\":0.5,\"fill_color\":\"lightgrey\",\"group\":null,\"left_units\":\"screen\",\"level\":\"overlay\",\"line_alpha\":1.0,\"line_color\":\"black\",\"line_dash\":[4,4],\"line_width\":2,\"right_units\":\"screen\",\"syncable\":false,\"top_units\":\"screen\"},\"id\":\"1717\",\"type\":\"BoxAnnotation\"},{\"attributes\":{},\"id\":\"1800\",\"type\":\"UnionRenderers\"},{\"attributes\":{},\"id\":\"1711\",\"type\":\"PanTool\"},{\"attributes\":{\"axis\":{\"id\":\"1666\"},\"coordinates\":null,\"group\":null,\"ticker\":null},\"id\":\"1669\",\"type\":\"Grid\"},{\"attributes\":{},\"id\":\"1715\",\"type\":\"ResetTool\"},{\"attributes\":{},\"id\":\"1671\",\"type\":\"BasicTicker\"},{\"attributes\":{\"data\":{\"x\":[0,1,2,3,4,5,6,7,8,9,10],\"y\":[5,4,3,2,1,0,1,2,3,4,5]},\"selected\":{\"id\":\"1801\"},\"selection_policy\":{\"id\":\"1800\"}},\"id\":\"1762\",\"type\":\"ColumnDataSource\"},{\"attributes\":{},\"id\":\"1712\",\"type\":\"WheelZoomTool\"},{\"attributes\":{\"coordinates\":null,\"formatter\":{\"id\":\"1771\"},\"group\":null,\"major_label_policy\":{\"id\":\"1772\"},\"ticker\":{\"id\":\"1671\"}},\"id\":\"1670\",\"type\":\"LinearAxis\"},{\"attributes\":{},\"id\":\"1801\",\"type\":\"Selection\"},{\"attributes\":{\"overlay\":{\"id\":\"1717\"}},\"id\":\"1713\",\"type\":\"BoxZoomTool\"},{\"attributes\":{\"children\":[[{\"id\":\"1657\"},0,0],[{\"id\":\"1694\"},0,1],[{\"id\":\"1731\"},1,1]]},\"id\":\"1804\",\"type\":\"GridBox\"},{\"attributes\":{\"toolbars\":[{\"id\":\"1681\"},{\"id\":\"1718\"},{\"id\":\"1755\"}],\"tools\":[{\"id\":\"1674\"},{\"id\":\"1675\"},{\"id\":\"1676\"},{\"id\":\"1677\"},{\"id\":\"1678\"},{\"id\":\"1679\"},{\"id\":\"1711\"},{\"id\":\"1712\"},{\"id\":\"1713\"},{\"id\":\"1714\"},{\"id\":\"1715\"},{\"id\":\"1716\"},{\"id\":\"1748\"},{\"id\":\"1749\"},{\"id\":\"1750\"},{\"id\":\"1751\"},{\"id\":\"1752\"},{\"id\":\"1753\"}]},\"id\":\"1805\",\"type\":\"ProxyToolbar\"},{\"attributes\":{\"background_fill_color\":\"#fafafa\",\"below\":[{\"id\":\"1703\"}],\"center\":[{\"id\":\"1706\"},{\"id\":\"1710\"}],\"height\":250,\"left\":[{\"id\":\"1707\"}],\"renderers\":[{\"id\":\"1729\"}],\"title\":{\"id\":\"1780\"},\"toolbar\":{\"id\":\"1718\"},\"toolbar_location\":null,\"width\":250,\"x_range\":{\"id\":\"1695\"},\"x_scale\":{\"id\":\"1699\"},\"y_range\":{\"id\":\"1697\"},\"y_scale\":{\"id\":\"1701\"}},\"id\":\"1694\",\"subtype\":\"Figure\",\"type\":\"Plot\"},{\"attributes\":{},\"id\":\"1714\",\"type\":\"SaveTool\"},{\"attributes\":{},\"id\":\"1748\",\"type\":\"PanTool\"},{\"attributes\":{\"tools\":[{\"id\":\"1674\"},{\"id\":\"1675\"},{\"id\":\"1676\"},{\"id\":\"1677\"},{\"id\":\"1678\"},{\"id\":\"1679\"}]},\"id\":\"1681\",\"type\":\"Toolbar\"},{\"attributes\":{},\"id\":\"1752\",\"type\":\"ResetTool\"},{\"attributes\":{},\"id\":\"1749\",\"type\":\"WheelZoomTool\"},{\"attributes\":{},\"id\":\"1716\",\"type\":\"HelpTool\"},{\"attributes\":{\"overlay\":{\"id\":\"1754\"}},\"id\":\"1750\",\"type\":\"BoxZoomTool\"},{\"attributes\":{\"toolbar\":{\"id\":\"1805\"},\"toolbar_location\":\"above\"},\"id\":\"1806\",\"type\":\"ToolbarBox\"},{\"attributes\":{},\"id\":\"1675\",\"type\":\"WheelZoomTool\"},{\"attributes\":{},\"id\":\"1751\",\"type\":\"SaveTool\"},{\"attributes\":{\"bottom_units\":\"screen\",\"coordinates\":null,\"fill_alpha\":0.5,\"fill_color\":\"lightgrey\",\"group\":null,\"left_units\":\"screen\",\"level\":\"overlay\",\"line_alpha\":1.0,\"line_color\":\"black\",\"line_dash\":[4,4],\"line_width\":2,\"right_units\":\"screen\",\"syncable\":false,\"top_units\":\"screen\"},\"id\":\"1680\",\"type\":\"BoxAnnotation\"},{\"attributes\":{\"fill_alpha\":{\"value\":0.1},\"fill_color\":{\"value\":\"#c02942\"},\"hatch_alpha\":{\"value\":0.1},\"hatch_color\":{\"value\":\"#c02942\"},\"line_alpha\":{\"value\":0.1},\"line_color\":{\"value\":\"#c02942\"},\"marker\":{\"value\":\"triangle\"},\"size\":{\"value\":12},\"x\":{\"field\":\"x\"},\"y\":{\"field\":\"y\"}},\"id\":\"1727\",\"type\":\"Scatter\"},{\"attributes\":{\"tools\":[{\"id\":\"1748\"},{\"id\":\"1749\"},{\"id\":\"1750\"},{\"id\":\"1751\"},{\"id\":\"1752\"},{\"id\":\"1753\"}]},\"id\":\"1755\",\"type\":\"Toolbar\"},{\"attributes\":{},\"id\":\"1753\",\"type\":\"HelpTool\"},{\"attributes\":{\"bottom_units\":\"screen\",\"coordinates\":null,\"fill_alpha\":0.5,\"fill_color\":\"lightgrey\",\"group\":null,\"left_units\":\"screen\",\"level\":\"overlay\",\"line_alpha\":1.0,\"line_color\":\"black\",\"line_dash\":[4,4],\"line_width\":2,\"right_units\":\"screen\",\"syncable\":false,\"top_units\":\"screen\"},\"id\":\"1754\",\"type\":\"BoxAnnotation\"},{\"attributes\":{\"fill_alpha\":{\"value\":0.8},\"fill_color\":{\"value\":\"#d95b43\"},\"hatch_alpha\":{\"value\":0.8},\"hatch_color\":{\"value\":\"#d95b43\"},\"line_alpha\":{\"value\":0.8},\"line_color\":{\"value\":\"#d95b43\"},\"marker\":{\"value\":\"square\"},\"size\":{\"value\":12},\"x\":{\"field\":\"x\"},\"y\":{\"field\":\"y\"}},\"id\":\"1763\",\"type\":\"Scatter\"},{\"attributes\":{\"overlay\":{\"id\":\"1680\"}},\"id\":\"1676\",\"type\":\"BoxZoomTool\"},{\"attributes\":{\"fill_alpha\":{\"value\":0.1},\"fill_color\":{\"value\":\"#53777a\"},\"hatch_alpha\":{\"value\":0.1},\"hatch_color\":{\"value\":\"#53777a\"},\"line_alpha\":{\"value\":0.1},\"line_color\":{\"value\":\"#53777a\"},\"size\":{\"value\":12},\"x\":{\"field\":\"x\"},\"y\":{\"field\":\"y\"}},\"id\":\"1690\",\"type\":\"Circle\"},{\"attributes\":{},\"id\":\"1674\",\"type\":\"PanTool\"},{\"attributes\":{},\"id\":\"1677\",\"type\":\"SaveTool\"},{\"attributes\":{\"fill_alpha\":{\"value\":0.2},\"fill_color\":{\"value\":\"#d95b43\"},\"hatch_alpha\":{\"value\":0.2},\"hatch_color\":{\"value\":\"#d95b43\"},\"line_alpha\":{\"value\":0.2},\"line_color\":{\"value\":\"#d95b43\"},\"marker\":{\"value\":\"square\"},\"size\":{\"value\":12},\"x\":{\"field\":\"x\"},\"y\":{\"field\":\"y\"}},\"id\":\"1765\",\"type\":\"Scatter\"},{\"attributes\":{},\"id\":\"1678\",\"type\":\"ResetTool\"}],\"root_ids\":[\"1807\"]},\"title\":\"Bokeh Application\",\"version\":\"2.4.2\"}};\n",
       "  const render_items = [{\"docid\":\"54f50540-ab98-456b-becc-66d2a0b12e95\",\"root_ids\":[\"1807\"],\"roots\":{\"1807\":\"c32c52c6-36c0-49ad-b61c-43dc36bf41ab\"}}];\n",
       "  root.Bokeh.embed.embed_items_notebook(docs_json, render_items);\n",
       "\n",
       "  }\n",
       "  if (root.Bokeh !== undefined) {\n",
       "    embed_document(root);\n",
       "  } else {\n",
       "    let attempts = 0;\n",
       "    const timer = setInterval(function(root) {\n",
       "      if (root.Bokeh !== undefined) {\n",
       "        clearInterval(timer);\n",
       "        embed_document(root);\n",
       "      } else {\n",
       "        attempts++;\n",
       "        if (attempts > 100) {\n",
       "          clearInterval(timer);\n",
       "          console.log(\"Bokeh: ERROR: Unable to run BokehJS code because BokehJS library is missing\");\n",
       "        }\n",
       "      }\n",
       "    }, 10, root)\n",
       "  }\n",
       "})(window);"
      ],
      "application/vnd.bokehjs_exec.v0+json": ""
     },
     "metadata": {
      "application/vnd.bokehjs_exec.v0+json": {
       "id": "1807"
      }
     },
     "output_type": "display_data"
    }
   ],
   "source": [
    "from bokeh.io import output_file, show, output_notebook\n",
    "from bokeh.layouts import gridplot\n",
    "from bokeh.plotting import figure\n",
    "\n",
    "x = list(range(11))\n",
    "y0 = x\n",
    "y1 = [10 - i for i in x]\n",
    "y2 = [abs(i - 5) for i in x]\n",
    "\n",
    "# create three plots\n",
    "s1 = figure(background_fill_color=\"#fafafa\")\n",
    "s1.circle(x, y0, size=12, alpha=0.8, color=\"#53777a\")\n",
    "\n",
    "s2 = figure(background_fill_color=\"#fafafa\")\n",
    "s2.triangle(x, y1, size=12, alpha=0.8, color=\"#c02942\")\n",
    "\n",
    "s3 = figure(background_fill_color=\"#fafafa\")\n",
    "s3.square(x, y2, size=12, alpha=0.8, color=\"#d95b43\")\n",
    "\n",
    "# make a grid\n",
    "grid = gridplot([[s1, s2], [None, s3]], plot_width=250, plot_height=250)\n",
    "\n",
    "show(grid)"
   ]
  },
  {
   "cell_type": "markdown",
   "metadata": {
    "application/vnd.databricks.v1+cell": {
     "inputWidgets": {},
     "nuid": "46481fbd-154e-43db-a4ae-ceaec475a0b5",
     "showTitle": false,
     "title": ""
    }
   },
   "source": [
    "## Interactive Legends\n",
    "In this section, we discuss the click_policy parameter, the property which makes the legend interactive. There are two types of interactivity:\n",
    "\n",
    "- Hiding: Hides the Glyphs.\n",
    "- Muting: Hiding the glyph makes it vanish completely, on the other hand, muting the glyph just de-emphasizes the glyph based on the parameters."
   ]
  },
  {
   "cell_type": "code",
   "execution_count": 4,
   "metadata": {
    "application/vnd.databricks.v1+cell": {
     "inputWidgets": {},
     "nuid": "db43bff9-b008-4c89-a7e9-136ec3317ca6",
     "showTitle": false,
     "title": ""
    }
   },
   "outputs": [
    {
     "data": {
      "text/html": [
       "\n",
       "\n",
       "\n",
       "\n",
       "\n",
       "\n",
       "  <div class=\"bk-root\" id=\"fedc5689-e30b-44f8-971b-c696f62ebd95\" data-root-id=\"2072\"></div>\n"
      ]
     },
     "metadata": {},
     "output_type": "display_data"
    },
    {
     "data": {
      "application/javascript": [
       "(function(root) {\n",
       "  function embed_document(root) {\n",
       "    \n",
       "  const docs_json = {\"85d0ba50-4408-4d8a-9335-6482bfdd046f\":{\"defs\":[],\"roots\":{\"references\":[{\"attributes\":{\"below\":[{\"id\":\"2083\"}],\"center\":[{\"id\":\"2086\"},{\"id\":\"2090\"},{\"id\":\"2121\"}],\"left\":[{\"id\":\"2087\"}],\"renderers\":[{\"id\":\"2109\"},{\"id\":\"2127\"},{\"id\":\"2146\"},{\"id\":\"2167\"}],\"title\":{\"id\":\"2073\"},\"toolbar\":{\"id\":\"2098\"},\"x_range\":{\"id\":\"2075\"},\"x_scale\":{\"id\":\"2079\"},\"y_range\":{\"id\":\"2077\"},\"y_scale\":{\"id\":\"2081\"}},\"id\":\"2072\",\"subtype\":\"Figure\",\"type\":\"Plot\"},{\"attributes\":{\"tools\":[{\"id\":\"2091\"},{\"id\":\"2092\"},{\"id\":\"2093\"},{\"id\":\"2094\"},{\"id\":\"2095\"},{\"id\":\"2096\"}]},\"id\":\"2098\",\"type\":\"Toolbar\"},{\"attributes\":{},\"id\":\"2114\",\"type\":\"AllLabels\"},{\"attributes\":{},\"id\":\"2075\",\"type\":\"DataRange1d\"},{\"attributes\":{\"fill_alpha\":{\"value\":0.2},\"fill_color\":{\"value\":\"violet\"},\"hatch_alpha\":{\"value\":0.2},\"hatch_color\":{\"value\":\"violet\"},\"line_alpha\":{\"value\":0.2},\"line_color\":{\"value\":\"violet\"},\"top\":{\"value\":5},\"x\":{\"value\":1}},\"id\":\"2108\",\"type\":\"VBar\"},{\"attributes\":{\"source\":{\"id\":\"2142\"}},\"id\":\"2147\",\"type\":\"CDSView\"},{\"attributes\":{\"label\":{\"value\":\"Violet Bar\"},\"renderers\":[{\"id\":\"2109\"}]},\"id\":\"2122\",\"type\":\"LegendItem\"},{\"attributes\":{},\"id\":\"2091\",\"type\":\"PanTool\"},{\"attributes\":{\"label\":{\"value\":\"Red Bar\"},\"renderers\":[{\"id\":\"2167\"}]},\"id\":\"2185\",\"type\":\"LegendItem\"},{\"attributes\":{},\"id\":\"2118\",\"type\":\"UnionRenderers\"},{\"attributes\":{\"coordinates\":null,\"group\":null,\"text\":\"Bokeh Hiding Glyphs\"},\"id\":\"2073\",\"type\":\"Title\"},{\"attributes\":{\"data\":{},\"selected\":{\"id\":\"2139\"},\"selection_policy\":{\"id\":\"2138\"}},\"id\":\"2123\",\"type\":\"ColumnDataSource\"},{\"attributes\":{\"fill_alpha\":{\"value\":0.1},\"fill_color\":{\"value\":\"yellow\"},\"hatch_alpha\":{\"value\":0.1},\"hatch_color\":{\"value\":\"yellow\"},\"line_alpha\":{\"value\":0.1},\"line_color\":{\"value\":\"yellow\"},\"top\":{\"value\":5},\"x\":{\"value\":3}},\"id\":\"2144\",\"type\":\"VBar\"},{\"attributes\":{\"fill_alpha\":{\"value\":0.2},\"fill_color\":{\"value\":\"yellow\"},\"hatch_alpha\":{\"value\":0.2},\"hatch_color\":{\"value\":\"yellow\"},\"line_alpha\":{\"value\":0.2},\"line_color\":{\"value\":\"yellow\"},\"top\":{\"value\":5},\"x\":{\"value\":3}},\"id\":\"2145\",\"type\":\"VBar\"},{\"attributes\":{\"coordinates\":null,\"data_source\":{\"id\":\"2142\"},\"glyph\":{\"id\":\"2143\"},\"group\":null,\"hover_glyph\":null,\"muted_glyph\":{\"id\":\"2145\"},\"nonselection_glyph\":{\"id\":\"2144\"},\"view\":{\"id\":\"2147\"}},\"id\":\"2146\",\"type\":\"GlyphRenderer\"},{\"attributes\":{},\"id\":\"2092\",\"type\":\"WheelZoomTool\"},{\"attributes\":{},\"id\":\"2095\",\"type\":\"ResetTool\"},{\"attributes\":{},\"id\":\"2077\",\"type\":\"DataRange1d\"},{\"attributes\":{\"fill_alpha\":{\"value\":0.1},\"fill_color\":{\"value\":\"violet\"},\"hatch_alpha\":{\"value\":0.1},\"hatch_color\":{\"value\":\"violet\"},\"line_alpha\":{\"value\":0.1},\"line_color\":{\"value\":\"violet\"},\"top\":{\"value\":5},\"x\":{\"value\":1}},\"id\":\"2107\",\"type\":\"VBar\"},{\"attributes\":{\"overlay\":{\"id\":\"2097\"}},\"id\":\"2093\",\"type\":\"BoxZoomTool\"},{\"attributes\":{\"fill_color\":{\"value\":\"green\"},\"hatch_color\":{\"value\":\"green\"},\"line_color\":{\"value\":\"green\"},\"top\":{\"value\":5},\"x\":{\"value\":2}},\"id\":\"2124\",\"type\":\"VBar\"},{\"attributes\":{},\"id\":\"2159\",\"type\":\"UnionRenderers\"},{\"attributes\":{\"fill_alpha\":{\"value\":0.2},\"fill_color\":{\"value\":\"green\"},\"hatch_alpha\":{\"value\":0.2},\"hatch_color\":{\"value\":\"green\"},\"line_alpha\":{\"value\":0.2},\"line_color\":{\"value\":\"green\"},\"top\":{\"value\":5},\"x\":{\"value\":2}},\"id\":\"2126\",\"type\":\"VBar\"},{\"attributes\":{},\"id\":\"2094\",\"type\":\"SaveTool\"},{\"attributes\":{\"coordinates\":null,\"data_source\":{\"id\":\"2105\"},\"glyph\":{\"id\":\"2106\"},\"group\":null,\"hover_glyph\":null,\"muted_glyph\":{\"id\":\"2108\"},\"nonselection_glyph\":{\"id\":\"2107\"},\"view\":{\"id\":\"2110\"}},\"id\":\"2109\",\"type\":\"GlyphRenderer\"},{\"attributes\":{},\"id\":\"2084\",\"type\":\"BasicTicker\"},{\"attributes\":{},\"id\":\"2117\",\"type\":\"AllLabels\"},{\"attributes\":{},\"id\":\"2182\",\"type\":\"UnionRenderers\"},{\"attributes\":{},\"id\":\"2079\",\"type\":\"LinearScale\"},{\"attributes\":{},\"id\":\"2096\",\"type\":\"HelpTool\"},{\"attributes\":{\"source\":{\"id\":\"2123\"}},\"id\":\"2128\",\"type\":\"CDSView\"},{\"attributes\":{},\"id\":\"2081\",\"type\":\"LinearScale\"},{\"attributes\":{\"data\":{},\"selected\":{\"id\":\"2183\"},\"selection_policy\":{\"id\":\"2182\"}},\"id\":\"2163\",\"type\":\"ColumnDataSource\"},{\"attributes\":{\"fill_alpha\":{\"value\":0.1},\"fill_color\":{\"value\":\"green\"},\"hatch_alpha\":{\"value\":0.1},\"hatch_color\":{\"value\":\"green\"},\"line_alpha\":{\"value\":0.1},\"line_color\":{\"value\":\"green\"},\"top\":{\"value\":5},\"x\":{\"value\":2}},\"id\":\"2125\",\"type\":\"VBar\"},{\"attributes\":{\"label\":{\"value\":\"Yellow Bar\"},\"renderers\":[{\"id\":\"2146\"}]},\"id\":\"2162\",\"type\":\"LegendItem\"},{\"attributes\":{\"coordinates\":null,\"data_source\":{\"id\":\"2123\"},\"glyph\":{\"id\":\"2124\"},\"group\":null,\"hover_glyph\":null,\"muted_glyph\":{\"id\":\"2126\"},\"nonselection_glyph\":{\"id\":\"2125\"},\"view\":{\"id\":\"2128\"}},\"id\":\"2127\",\"type\":\"GlyphRenderer\"},{\"attributes\":{\"coordinates\":null,\"formatter\":{\"id\":\"2116\"},\"group\":null,\"major_label_policy\":{\"id\":\"2117\"},\"ticker\":{\"id\":\"2084\"}},\"id\":\"2083\",\"type\":\"LinearAxis\"},{\"attributes\":{\"fill_color\":{\"value\":\"red\"},\"hatch_color\":{\"value\":\"red\"},\"line_color\":{\"value\":\"red\"},\"top\":{\"value\":5},\"x\":{\"value\":4}},\"id\":\"2164\",\"type\":\"VBar\"},{\"attributes\":{\"label\":{\"value\":\"Green Bar\"},\"renderers\":[{\"id\":\"2127\"}]},\"id\":\"2141\",\"type\":\"LegendItem\"},{\"attributes\":{\"axis\":{\"id\":\"2083\"},\"coordinates\":null,\"group\":null,\"ticker\":null},\"id\":\"2086\",\"type\":\"Grid\"},{\"attributes\":{\"bottom_units\":\"screen\",\"coordinates\":null,\"fill_alpha\":0.5,\"fill_color\":\"lightgrey\",\"group\":null,\"left_units\":\"screen\",\"level\":\"overlay\",\"line_alpha\":1.0,\"line_color\":\"black\",\"line_dash\":[4,4],\"line_width\":2,\"right_units\":\"screen\",\"syncable\":false,\"top_units\":\"screen\"},\"id\":\"2097\",\"type\":\"BoxAnnotation\"},{\"attributes\":{},\"id\":\"2088\",\"type\":\"BasicTicker\"},{\"attributes\":{},\"id\":\"2138\",\"type\":\"UnionRenderers\"},{\"attributes\":{\"coordinates\":null,\"formatter\":{\"id\":\"2113\"},\"group\":null,\"major_label_policy\":{\"id\":\"2114\"},\"ticker\":{\"id\":\"2088\"}},\"id\":\"2087\",\"type\":\"LinearAxis\"},{\"attributes\":{},\"id\":\"2160\",\"type\":\"Selection\"},{\"attributes\":{},\"id\":\"2116\",\"type\":\"BasicTickFormatter\"},{\"attributes\":{},\"id\":\"2139\",\"type\":\"Selection\"},{\"attributes\":{\"data\":{},\"selected\":{\"id\":\"2160\"},\"selection_policy\":{\"id\":\"2159\"}},\"id\":\"2142\",\"type\":\"ColumnDataSource\"},{\"attributes\":{\"source\":{\"id\":\"2163\"}},\"id\":\"2168\",\"type\":\"CDSView\"},{\"attributes\":{},\"id\":\"2119\",\"type\":\"Selection\"},{\"attributes\":{\"fill_alpha\":{\"value\":0.1},\"fill_color\":{\"value\":\"red\"},\"hatch_alpha\":{\"value\":0.1},\"hatch_color\":{\"value\":\"red\"},\"line_alpha\":{\"value\":0.1},\"line_color\":{\"value\":\"red\"},\"top\":{\"value\":5},\"x\":{\"value\":4}},\"id\":\"2165\",\"type\":\"VBar\"},{\"attributes\":{\"coordinates\":null,\"data_source\":{\"id\":\"2163\"},\"glyph\":{\"id\":\"2164\"},\"group\":null,\"hover_glyph\":null,\"muted_glyph\":{\"id\":\"2166\"},\"nonselection_glyph\":{\"id\":\"2165\"},\"view\":{\"id\":\"2168\"}},\"id\":\"2167\",\"type\":\"GlyphRenderer\"},{\"attributes\":{\"axis\":{\"id\":\"2087\"},\"coordinates\":null,\"dimension\":1,\"group\":null,\"ticker\":null},\"id\":\"2090\",\"type\":\"Grid\"},{\"attributes\":{\"fill_alpha\":{\"value\":0.2},\"fill_color\":{\"value\":\"red\"},\"hatch_alpha\":{\"value\":0.2},\"hatch_color\":{\"value\":\"red\"},\"line_alpha\":{\"value\":0.2},\"line_color\":{\"value\":\"red\"},\"top\":{\"value\":5},\"x\":{\"value\":4}},\"id\":\"2166\",\"type\":\"VBar\"},{\"attributes\":{},\"id\":\"2183\",\"type\":\"Selection\"},{\"attributes\":{\"data\":{},\"selected\":{\"id\":\"2119\"},\"selection_policy\":{\"id\":\"2118\"}},\"id\":\"2105\",\"type\":\"ColumnDataSource\"},{\"attributes\":{\"fill_color\":{\"value\":\"yellow\"},\"hatch_color\":{\"value\":\"yellow\"},\"line_color\":{\"value\":\"yellow\"},\"top\":{\"value\":5},\"x\":{\"value\":3}},\"id\":\"2143\",\"type\":\"VBar\"},{\"attributes\":{},\"id\":\"2113\",\"type\":\"BasicTickFormatter\"},{\"attributes\":{\"fill_color\":{\"value\":\"violet\"},\"hatch_color\":{\"value\":\"violet\"},\"line_color\":{\"value\":\"violet\"},\"top\":{\"value\":5},\"x\":{\"value\":1}},\"id\":\"2106\",\"type\":\"VBar\"},{\"attributes\":{\"source\":{\"id\":\"2105\"}},\"id\":\"2110\",\"type\":\"CDSView\"},{\"attributes\":{\"click_policy\":\"mute\",\"coordinates\":null,\"group\":null,\"items\":[{\"id\":\"2122\"},{\"id\":\"2141\"},{\"id\":\"2162\"},{\"id\":\"2185\"}]},\"id\":\"2121\",\"type\":\"Legend\"}],\"root_ids\":[\"2072\"]},\"title\":\"Bokeh Application\",\"version\":\"2.4.2\"}};\n",
       "  const render_items = [{\"docid\":\"85d0ba50-4408-4d8a-9335-6482bfdd046f\",\"root_ids\":[\"2072\"],\"roots\":{\"2072\":\"fedc5689-e30b-44f8-971b-c696f62ebd95\"}}];\n",
       "  root.Bokeh.embed.embed_items_notebook(docs_json, render_items);\n",
       "\n",
       "  }\n",
       "  if (root.Bokeh !== undefined) {\n",
       "    embed_document(root);\n",
       "  } else {\n",
       "    let attempts = 0;\n",
       "    const timer = setInterval(function(root) {\n",
       "      if (root.Bokeh !== undefined) {\n",
       "        clearInterval(timer);\n",
       "        embed_document(root);\n",
       "      } else {\n",
       "        attempts++;\n",
       "        if (attempts > 100) {\n",
       "          clearInterval(timer);\n",
       "          console.log(\"Bokeh: ERROR: Unable to run BokehJS code because BokehJS library is missing\");\n",
       "        }\n",
       "      }\n",
       "    }, 10, root)\n",
       "  }\n",
       "})(window);"
      ],
      "application/vnd.bokehjs_exec.v0+json": ""
     },
     "metadata": {
      "application/vnd.bokehjs_exec.v0+json": {
       "id": "2072"
      }
     },
     "output_type": "display_data"
    }
   ],
   "source": [
    "# importing the modules \n",
    "from bokeh.io import output_file, show\n",
    "from bokeh.plotting import figure\n",
    "          \n",
    "# instantiating the figure object \n",
    "graph = figure(title = \"Bokeh Hiding Glyphs\") \n",
    "  \n",
    "# plotting the graph \n",
    "graph.vbar(x = 1, top = 5, \n",
    "        width = 1, color = \"violet\", \n",
    "        legend_label = \"Violet Bar\", \n",
    "        muted_alpha=0.2) \n",
    "graph.vbar(x = 2, top = 5, \n",
    "        width = 1, color = \"green\", \n",
    "        legend_label = \"Green Bar\", \n",
    "        muted_alpha=0.2) \n",
    "graph.vbar(x = 3, top = 5, \n",
    "        width = 1, color = \"yellow\", \n",
    "        legend_label = \"Yellow Bar\", \n",
    "        muted_alpha=0.2) \n",
    "graph.vbar(x = 4, top = 5, \n",
    "        width = 1, color = \"red\", \n",
    "        legend_label = \"Red Bar\", \n",
    "        muted_alpha=0.2) \n",
    "  \n",
    "# enable hiding of the glyphs \n",
    "graph.legend.click_policy = \"mute\"\n",
    "  \n",
    "# displaying the model \n",
    "show(graph) "
   ]
  },
  {
   "cell_type": "markdown",
   "metadata": {
    "application/vnd.databricks.v1+cell": {
     "inputWidgets": {},
     "nuid": "649461b6-5fa2-4200-b51a-901396686630",
     "showTitle": false,
     "title": ""
    }
   },
   "source": [
    "## Widgets\n",
    "\n",
    "### Button"
   ]
  },
  {
   "cell_type": "code",
   "execution_count": 5,
   "metadata": {
    "application/vnd.databricks.v1+cell": {
     "inputWidgets": {},
     "nuid": "0f3d953b-3caf-4db1-b2b1-7c607122ffcd",
     "showTitle": false,
     "title": ""
    }
   },
   "outputs": [
    {
     "data": {
      "text/html": [
       "\n",
       "\n",
       "\n",
       "\n",
       "\n",
       "\n",
       "  <div class=\"bk-root\" id=\"bb4d0fdd-bb5d-4c43-a487-03cc4a3fcef0\" data-root-id=\"2381\"></div>\n"
      ]
     },
     "metadata": {},
     "output_type": "display_data"
    },
    {
     "data": {
      "application/javascript": [
       "(function(root) {\n",
       "  function embed_document(root) {\n",
       "    \n",
       "  const docs_json = {\"1fe2c2c8-9784-4cdb-8ecb-c687ec8ffcfd\":{\"defs\":[],\"roots\":{\"references\":[{\"attributes\":{\"icon\":null,\"js_event_callbacks\":{\"button_click\":[{\"id\":\"2382\"}]}},\"id\":\"2381\",\"type\":\"Button\"},{\"attributes\":{\"code\":\"console.log('button: click!', this.toString())\"},\"id\":\"2382\",\"type\":\"CustomJS\"}],\"root_ids\":[\"2381\"]},\"title\":\"Bokeh Application\",\"version\":\"2.4.2\"}};\n",
       "  const render_items = [{\"docid\":\"1fe2c2c8-9784-4cdb-8ecb-c687ec8ffcfd\",\"root_ids\":[\"2381\"],\"roots\":{\"2381\":\"bb4d0fdd-bb5d-4c43-a487-03cc4a3fcef0\"}}];\n",
       "  root.Bokeh.embed.embed_items_notebook(docs_json, render_items);\n",
       "\n",
       "  }\n",
       "  if (root.Bokeh !== undefined) {\n",
       "    embed_document(root);\n",
       "  } else {\n",
       "    let attempts = 0;\n",
       "    const timer = setInterval(function(root) {\n",
       "      if (root.Bokeh !== undefined) {\n",
       "        clearInterval(timer);\n",
       "        embed_document(root);\n",
       "      } else {\n",
       "        attempts++;\n",
       "        if (attempts > 100) {\n",
       "          clearInterval(timer);\n",
       "          console.log(\"Bokeh: ERROR: Unable to run BokehJS code because BokehJS library is missing\");\n",
       "        }\n",
       "      }\n",
       "    }, 10, root)\n",
       "  }\n",
       "})(window);"
      ],
      "application/vnd.bokehjs_exec.v0+json": ""
     },
     "metadata": {
      "application/vnd.bokehjs_exec.v0+json": {
       "id": "2381"
      }
     },
     "output_type": "display_data"
    }
   ],
   "source": [
    "from bokeh.models import Button, CustomJS\n",
    "  \n",
    "button = Button(label=\"Button\")\n",
    "button.js_on_click(CustomJS(\n",
    "  code=\"console.log('button: click!', this.toString())\"))\n",
    "  \n",
    "show(button)"
   ]
  },
  {
   "cell_type": "markdown",
   "metadata": {
    "application/vnd.databricks.v1+cell": {
     "inputWidgets": {},
     "nuid": "3c040e44-09a8-47ea-8160-684ed22c142c",
     "showTitle": false,
     "title": ""
    }
   },
   "source": [
    "### Checkbox Group"
   ]
  },
  {
   "cell_type": "code",
   "execution_count": 6,
   "metadata": {
    "application/vnd.databricks.v1+cell": {
     "inputWidgets": {},
     "nuid": "3afb834f-f9de-4736-ad9f-e9f2bdbe813a",
     "showTitle": false,
     "title": ""
    }
   },
   "outputs": [
    {
     "data": {
      "text/html": [
       "\n",
       "\n",
       "\n",
       "\n",
       "\n",
       "\n",
       "  <div class=\"bk-root\" id=\"879b614c-06da-4491-9e2d-339f5f80a879\" data-root-id=\"2498\"></div>\n"
      ]
     },
     "metadata": {},
     "output_type": "display_data"
    },
    {
     "data": {
      "application/javascript": [
       "(function(root) {\n",
       "  function embed_document(root) {\n",
       "    \n",
       "  const docs_json = {\"08089e7e-612c-4ff0-b478-27a5348b78cf\":{\"defs\":[],\"roots\":{\"references\":[{\"attributes\":{\"active\":[0,2],\"labels\":[\"First\",\"Second\",\"Third\"]},\"id\":\"2498\",\"type\":\"CheckboxGroup\"}],\"root_ids\":[\"2498\"]},\"title\":\"Bokeh Application\",\"version\":\"2.4.2\"}};\n",
       "  const render_items = [{\"docid\":\"08089e7e-612c-4ff0-b478-27a5348b78cf\",\"root_ids\":[\"2498\"],\"roots\":{\"2498\":\"879b614c-06da-4491-9e2d-339f5f80a879\"}}];\n",
       "  root.Bokeh.embed.embed_items_notebook(docs_json, render_items);\n",
       "\n",
       "  }\n",
       "  if (root.Bokeh !== undefined) {\n",
       "    embed_document(root);\n",
       "  } else {\n",
       "    let attempts = 0;\n",
       "    const timer = setInterval(function(root) {\n",
       "      if (root.Bokeh !== undefined) {\n",
       "        clearInterval(timer);\n",
       "        embed_document(root);\n",
       "      } else {\n",
       "        attempts++;\n",
       "        if (attempts > 100) {\n",
       "          clearInterval(timer);\n",
       "          console.log(\"Bokeh: ERROR: Unable to run BokehJS code because BokehJS library is missing\");\n",
       "        }\n",
       "      }\n",
       "    }, 10, root)\n",
       "  }\n",
       "})(window);"
      ],
      "application/vnd.bokehjs_exec.v0+json": ""
     },
     "metadata": {
      "application/vnd.bokehjs_exec.v0+json": {
       "id": "2498"
      }
     },
     "output_type": "display_data"
    }
   ],
   "source": [
    "from bokeh.io import show\n",
    "from bokeh.models import CheckboxGroup, CustomJS\n",
    "  \n",
    "L = [\"First\", \"Second\", \"Third\"]\n",
    "  \n",
    "# the active parameter sets checks the selected value \n",
    "# by default\n",
    "checkbox_group = CheckboxGroup(labels=L, active=[0, 2])\n",
    "  \n",
    "# checkbox_group.js_on_click(CustomJS(code=\"\"\"\n",
    "#     console.log('checkbox_group: active=' + this.active, this.toString())\n",
    "# \"\"\"))\n",
    "  \n",
    "show(checkbox_group)"
   ]
  },
  {
   "cell_type": "markdown",
   "metadata": {
    "application/vnd.databricks.v1+cell": {
     "inputWidgets": {},
     "nuid": "0d93691d-580e-4f78-8233-8427b135bce5",
     "showTitle": false,
     "title": ""
    }
   },
   "source": [
    "### Radio Group"
   ]
  },
  {
   "cell_type": "code",
   "execution_count": 7,
   "metadata": {
    "application/vnd.databricks.v1+cell": {
     "inputWidgets": {},
     "nuid": "857dc39f-a557-4c51-ab91-06c881e40e64",
     "showTitle": false,
     "title": ""
    }
   },
   "outputs": [
    {
     "data": {
      "text/html": [
       "\n",
       "\n",
       "\n",
       "\n",
       "\n",
       "\n",
       "  <div class=\"bk-root\" id=\"c98ebd43-eb87-499a-8c82-b066ae13463f\" data-root-id=\"2614\"></div>\n"
      ]
     },
     "metadata": {},
     "output_type": "display_data"
    },
    {
     "data": {
      "application/javascript": [
       "(function(root) {\n",
       "  function embed_document(root) {\n",
       "    \n",
       "  const docs_json = {\"cee411e6-0187-4c11-a040-af19756ec50d\":{\"defs\":[],\"roots\":{\"references\":[{\"attributes\":{\"active\":1,\"js_property_callbacks\":{\"change:active\":[{\"id\":\"2615\"}]},\"labels\":[\"Option 1\",\"Option 2\",\"Option 3\"]},\"id\":\"2614\",\"type\":\"RadioGroup\"},{\"attributes\":{\"code\":\"\\n    console.log('radio_group: active=' + this.active, this.toString())\\n\"},\"id\":\"2615\",\"type\":\"CustomJS\"}],\"root_ids\":[\"2614\"]},\"title\":\"Bokeh Application\",\"version\":\"2.4.2\"}};\n",
       "  const render_items = [{\"docid\":\"cee411e6-0187-4c11-a040-af19756ec50d\",\"root_ids\":[\"2614\"],\"roots\":{\"2614\":\"c98ebd43-eb87-499a-8c82-b066ae13463f\"}}];\n",
       "  root.Bokeh.embed.embed_items_notebook(docs_json, render_items);\n",
       "\n",
       "  }\n",
       "  if (root.Bokeh !== undefined) {\n",
       "    embed_document(root);\n",
       "  } else {\n",
       "    let attempts = 0;\n",
       "    const timer = setInterval(function(root) {\n",
       "      if (root.Bokeh !== undefined) {\n",
       "        clearInterval(timer);\n",
       "        embed_document(root);\n",
       "      } else {\n",
       "        attempts++;\n",
       "        if (attempts > 100) {\n",
       "          clearInterval(timer);\n",
       "          console.log(\"Bokeh: ERROR: Unable to run BokehJS code because BokehJS library is missing\");\n",
       "        }\n",
       "      }\n",
       "    }, 10, root)\n",
       "  }\n",
       "})(window);"
      ],
      "application/vnd.bokehjs_exec.v0+json": ""
     },
     "metadata": {
      "application/vnd.bokehjs_exec.v0+json": {
       "id": "2614"
      }
     },
     "output_type": "display_data"
    }
   ],
   "source": [
    "from bokeh.io import show\n",
    "from bokeh.models import CustomJS, RadioGroup\n",
    "\n",
    "LABELS = [\"Option 1\", \"Option 2\", \"Option 3\"]\n",
    "\n",
    "radio_group = RadioGroup(labels=LABELS, active=1)\n",
    "radio_group.js_on_click(CustomJS(code=\"\"\"\n",
    "    console.log('radio_group: active=' + this.active, this.toString())\n",
    "\"\"\"))\n",
    "\n",
    "show(radio_group)"
   ]
  },
  {
   "cell_type": "markdown",
   "metadata": {
    "application/vnd.databricks.v1+cell": {
     "inputWidgets": {},
     "nuid": "3b7300c9-bdbc-4f37-9221-90ac086f665f",
     "showTitle": false,
     "title": ""
    }
   },
   "source": [
    "### RadioButton Group"
   ]
  },
  {
   "cell_type": "code",
   "execution_count": 8,
   "metadata": {
    "application/vnd.databricks.v1+cell": {
     "inputWidgets": {},
     "nuid": "39b07809-e839-48cf-902e-271b688a6f89",
     "showTitle": false,
     "title": ""
    }
   },
   "outputs": [
    {
     "data": {
      "text/html": [
       "\n",
       "\n",
       "\n",
       "\n",
       "\n",
       "\n",
       "  <div class=\"bk-root\" id=\"0d053047-e6c6-44b1-98eb-b3b0e4a23a30\" data-root-id=\"2731\"></div>\n"
      ]
     },
     "metadata": {},
     "output_type": "display_data"
    },
    {
     "data": {
      "application/javascript": [
       "(function(root) {\n",
       "  function embed_document(root) {\n",
       "    \n",
       "  const docs_json = {\"bcd5b83e-088c-470e-a6f6-fd7b47b81c1b\":{\"defs\":[],\"roots\":{\"references\":[{\"attributes\":{\"active\":0,\"js_property_callbacks\":{\"change:active\":[{\"id\":\"2732\"}]},\"labels\":[\"Option 1\",\"Option 2\",\"Option 3\"]},\"id\":\"2731\",\"type\":\"RadioButtonGroup\"},{\"attributes\":{\"code\":\"\\n    console.log('radio_button_group: active=' + this.active, this.toString())\\n\"},\"id\":\"2732\",\"type\":\"CustomJS\"}],\"root_ids\":[\"2731\"]},\"title\":\"Bokeh Application\",\"version\":\"2.4.2\"}};\n",
       "  const render_items = [{\"docid\":\"bcd5b83e-088c-470e-a6f6-fd7b47b81c1b\",\"root_ids\":[\"2731\"],\"roots\":{\"2731\":\"0d053047-e6c6-44b1-98eb-b3b0e4a23a30\"}}];\n",
       "  root.Bokeh.embed.embed_items_notebook(docs_json, render_items);\n",
       "\n",
       "  }\n",
       "  if (root.Bokeh !== undefined) {\n",
       "    embed_document(root);\n",
       "  } else {\n",
       "    let attempts = 0;\n",
       "    const timer = setInterval(function(root) {\n",
       "      if (root.Bokeh !== undefined) {\n",
       "        clearInterval(timer);\n",
       "        embed_document(root);\n",
       "      } else {\n",
       "        attempts++;\n",
       "        if (attempts > 100) {\n",
       "          clearInterval(timer);\n",
       "          console.log(\"Bokeh: ERROR: Unable to run BokehJS code because BokehJS library is missing\");\n",
       "        }\n",
       "      }\n",
       "    }, 10, root)\n",
       "  }\n",
       "})(window);"
      ],
      "application/vnd.bokehjs_exec.v0+json": ""
     },
     "metadata": {
      "application/vnd.bokehjs_exec.v0+json": {
       "id": "2731"
      }
     },
     "output_type": "display_data"
    }
   ],
   "source": [
    "from bokeh.io import show\n",
    "from bokeh.models import CustomJS, RadioButtonGroup\n",
    "\n",
    "LABELS = [\"Option 1\", \"Option 2\", \"Option 3\"]\n",
    "\n",
    "radio_button_group = RadioButtonGroup(labels=LABELS, active=0)\n",
    "radio_button_group.js_on_click(CustomJS(code=\"\"\"\n",
    "    console.log('radio_button_group: active=' + this.active, this.toString())\n",
    "\"\"\"))\n",
    "\n",
    "show(radio_button_group)"
   ]
  },
  {
   "cell_type": "markdown",
   "metadata": {
    "application/vnd.databricks.v1+cell": {
     "inputWidgets": {},
     "nuid": "c82a0054-7cec-4fcd-916d-e78fe736f75c",
     "showTitle": false,
     "title": ""
    }
   },
   "source": [
    "### Slider"
   ]
  },
  {
   "cell_type": "code",
   "execution_count": 9,
   "metadata": {
    "application/vnd.databricks.v1+cell": {
     "inputWidgets": {},
     "nuid": "d9e41a80-bb95-406b-977a-3e7cb1d38f88",
     "showTitle": false,
     "title": ""
    }
   },
   "outputs": [
    {
     "data": {
      "text/html": [
       "\n",
       "\n",
       "\n",
       "\n",
       "\n",
       "\n",
       "  <div class=\"bk-root\" id=\"44a43a7d-a0ee-46eb-bb9a-057ff46a4b84\" data-root-id=\"2848\"></div>\n"
      ]
     },
     "metadata": {},
     "output_type": "display_data"
    },
    {
     "data": {
      "application/javascript": [
       "(function(root) {\n",
       "  function embed_document(root) {\n",
       "    \n",
       "  const docs_json = {\"b81c8304-d9e7-4614-a3a8-befb17bf6abc\":{\"defs\":[],\"roots\":{\"references\":[{\"attributes\":{\"end\":10,\"js_property_callbacks\":{\"change:value\":[{\"id\":\"2849\"}]},\"start\":0,\"step\":0.1,\"title\":\"Stuff\",\"value\":1},\"id\":\"2848\",\"type\":\"Slider\"},{\"attributes\":{\"code\":\"\\n    console.log('slider: value=' + this.value, this.toString())\\n\"},\"id\":\"2849\",\"type\":\"CustomJS\"}],\"root_ids\":[\"2848\"]},\"title\":\"Bokeh Application\",\"version\":\"2.4.2\"}};\n",
       "  const render_items = [{\"docid\":\"b81c8304-d9e7-4614-a3a8-befb17bf6abc\",\"root_ids\":[\"2848\"],\"roots\":{\"2848\":\"44a43a7d-a0ee-46eb-bb9a-057ff46a4b84\"}}];\n",
       "  root.Bokeh.embed.embed_items_notebook(docs_json, render_items);\n",
       "\n",
       "  }\n",
       "  if (root.Bokeh !== undefined) {\n",
       "    embed_document(root);\n",
       "  } else {\n",
       "    let attempts = 0;\n",
       "    const timer = setInterval(function(root) {\n",
       "      if (root.Bokeh !== undefined) {\n",
       "        clearInterval(timer);\n",
       "        embed_document(root);\n",
       "      } else {\n",
       "        attempts++;\n",
       "        if (attempts > 100) {\n",
       "          clearInterval(timer);\n",
       "          console.log(\"Bokeh: ERROR: Unable to run BokehJS code because BokehJS library is missing\");\n",
       "        }\n",
       "      }\n",
       "    }, 10, root)\n",
       "  }\n",
       "})(window);"
      ],
      "application/vnd.bokehjs_exec.v0+json": ""
     },
     "metadata": {
      "application/vnd.bokehjs_exec.v0+json": {
       "id": "2848"
      }
     },
     "output_type": "display_data"
    }
   ],
   "source": [
    "from bokeh.io import show\n",
    "from bokeh.models import CustomJS, Slider\n",
    "\n",
    "slider = Slider(start=0, end=10, value=1, step=.1, title=\"Stuff\")\n",
    "slider.js_on_change(\"value\", CustomJS(code=\"\"\"\n",
    "    console.log('slider: value=' + this.value, this.toString())\n",
    "\"\"\"))\n",
    "\n",
    "show(slider)"
   ]
  },
  {
   "cell_type": "markdown",
   "metadata": {
    "application/vnd.databricks.v1+cell": {
     "inputWidgets": {},
     "nuid": "e2fdfba6-a204-466e-ae8c-a733df057473",
     "showTitle": false,
     "title": ""
    }
   },
   "source": [
    "### Ranged Slider"
   ]
  },
  {
   "cell_type": "code",
   "execution_count": 10,
   "metadata": {
    "application/vnd.databricks.v1+cell": {
     "inputWidgets": {},
     "nuid": "754c92c2-4104-4034-822c-6457dc622ebb",
     "showTitle": false,
     "title": ""
    },
    "scrolled": true
   },
   "outputs": [
    {
     "data": {
      "text/html": [
       "\n",
       "\n",
       "\n",
       "\n",
       "\n",
       "\n",
       "  <div class=\"bk-root\" id=\"2fefe0cb-1dad-4356-ae73-c4fc85f2c2f5\" data-root-id=\"2965\"></div>\n"
      ]
     },
     "metadata": {},
     "output_type": "display_data"
    },
    {
     "data": {
      "application/javascript": [
       "(function(root) {\n",
       "  function embed_document(root) {\n",
       "    \n",
       "  const docs_json = {\"aa3b6dc9-3315-4983-a84d-6580c699432d\":{\"defs\":[],\"roots\":{\"references\":[{\"attributes\":{\"end\":10,\"js_property_callbacks\":{\"change:value\":[{\"id\":\"2966\"}]},\"start\":0,\"step\":0.1,\"title\":\"Stuff\",\"value\":[1,9]},\"id\":\"2965\",\"type\":\"RangeSlider\"},{\"attributes\":{\"code\":\"\\n    console.log('range_slider: value=' + this.value, this.toString())\\n\"},\"id\":\"2966\",\"type\":\"CustomJS\"}],\"root_ids\":[\"2965\"]},\"title\":\"Bokeh Application\",\"version\":\"2.4.2\"}};\n",
       "  const render_items = [{\"docid\":\"aa3b6dc9-3315-4983-a84d-6580c699432d\",\"root_ids\":[\"2965\"],\"roots\":{\"2965\":\"2fefe0cb-1dad-4356-ae73-c4fc85f2c2f5\"}}];\n",
       "  root.Bokeh.embed.embed_items_notebook(docs_json, render_items);\n",
       "\n",
       "  }\n",
       "  if (root.Bokeh !== undefined) {\n",
       "    embed_document(root);\n",
       "  } else {\n",
       "    let attempts = 0;\n",
       "    const timer = setInterval(function(root) {\n",
       "      if (root.Bokeh !== undefined) {\n",
       "        clearInterval(timer);\n",
       "        embed_document(root);\n",
       "      } else {\n",
       "        attempts++;\n",
       "        if (attempts > 100) {\n",
       "          clearInterval(timer);\n",
       "          console.log(\"Bokeh: ERROR: Unable to run BokehJS code because BokehJS library is missing\");\n",
       "        }\n",
       "      }\n",
       "    }, 10, root)\n",
       "  }\n",
       "})(window);"
      ],
      "application/vnd.bokehjs_exec.v0+json": ""
     },
     "metadata": {
      "application/vnd.bokehjs_exec.v0+json": {
       "id": "2965"
      }
     },
     "output_type": "display_data"
    }
   ],
   "source": [
    "from bokeh.io import show\n",
    "from bokeh.models import CustomJS, RangeSlider\n",
    "\n",
    "range_slider = RangeSlider(start=0, end=10, value=(1,9), step=.1, title=\"Stuff\")\n",
    "range_slider.js_on_change(\"value\", CustomJS(code=\"\"\"\n",
    "    console.log('range_slider: value=' + this.value, this.toString())\n",
    "\"\"\"))\n",
    "\n",
    "show(range_slider)"
   ]
  },
  {
   "cell_type": "markdown",
   "metadata": {
    "application/vnd.databricks.v1+cell": {
     "inputWidgets": {},
     "nuid": "5c2cfa47-f917-4b3f-8ee7-43d28bf91e60",
     "showTitle": false,
     "title": ""
    }
   },
   "source": [
    "### Select"
   ]
  },
  {
   "cell_type": "code",
   "execution_count": 11,
   "metadata": {
    "application/vnd.databricks.v1+cell": {
     "inputWidgets": {},
     "nuid": "159907bd-3f85-4ec6-ad2a-e3369885ae26",
     "showTitle": false,
     "title": ""
    }
   },
   "outputs": [
    {
     "data": {
      "text/html": [
       "\n",
       "\n",
       "\n",
       "\n",
       "\n",
       "\n",
       "  <div class=\"bk-root\" id=\"56d4cde9-f5ea-42ac-b16d-9f7d04af40da\" data-root-id=\"3082\"></div>\n"
      ]
     },
     "metadata": {},
     "output_type": "display_data"
    },
    {
     "data": {
      "application/javascript": [
       "(function(root) {\n",
       "  function embed_document(root) {\n",
       "    \n",
       "  const docs_json = {\"8c04a926-bb30-4a04-94b3-2302fd6c831f\":{\"defs\":[],\"roots\":{\"references\":[{\"attributes\":{\"js_property_callbacks\":{\"change:value\":[{\"id\":\"3083\"}]},\"options\":[\"foo\",\"bar\",\"baz\",\"quux\"],\"title\":\"Option:\",\"value\":\"foo\"},\"id\":\"3082\",\"type\":\"Select\"},{\"attributes\":{\"code\":\"\\n    console.log('select: value=' + this.value, this.toString())\\n\"},\"id\":\"3083\",\"type\":\"CustomJS\"}],\"root_ids\":[\"3082\"]},\"title\":\"Bokeh Application\",\"version\":\"2.4.2\"}};\n",
       "  const render_items = [{\"docid\":\"8c04a926-bb30-4a04-94b3-2302fd6c831f\",\"root_ids\":[\"3082\"],\"roots\":{\"3082\":\"56d4cde9-f5ea-42ac-b16d-9f7d04af40da\"}}];\n",
       "  root.Bokeh.embed.embed_items_notebook(docs_json, render_items);\n",
       "\n",
       "  }\n",
       "  if (root.Bokeh !== undefined) {\n",
       "    embed_document(root);\n",
       "  } else {\n",
       "    let attempts = 0;\n",
       "    const timer = setInterval(function(root) {\n",
       "      if (root.Bokeh !== undefined) {\n",
       "        clearInterval(timer);\n",
       "        embed_document(root);\n",
       "      } else {\n",
       "        attempts++;\n",
       "        if (attempts > 100) {\n",
       "          clearInterval(timer);\n",
       "          console.log(\"Bokeh: ERROR: Unable to run BokehJS code because BokehJS library is missing\");\n",
       "        }\n",
       "      }\n",
       "    }, 10, root)\n",
       "  }\n",
       "})(window);"
      ],
      "application/vnd.bokehjs_exec.v0+json": ""
     },
     "metadata": {
      "application/vnd.bokehjs_exec.v0+json": {
       "id": "3082"
      }
     },
     "output_type": "display_data"
    }
   ],
   "source": [
    "from bokeh.io import show\n",
    "from bokeh.models import CustomJS, Select\n",
    "\n",
    "select = Select(title=\"Option:\", value=\"foo\", options=[\"foo\", \"bar\", \"baz\", \"quux\"])\n",
    "select.js_on_change(\"value\", CustomJS(code=\"\"\"\n",
    "    console.log('select: value=' + this.value, this.toString())\n",
    "\"\"\"))\n",
    "\n",
    "show(select)"
   ]
  },
  {
   "cell_type": "markdown",
   "metadata": {
    "application/vnd.databricks.v1+cell": {
     "inputWidgets": {},
     "nuid": "85793424-2ef0-4f0b-bd75-72eb3f056a2b",
     "showTitle": false,
     "title": ""
    }
   },
   "source": [
    "### Numeric Input"
   ]
  },
  {
   "cell_type": "code",
   "execution_count": 12,
   "metadata": {
    "application/vnd.databricks.v1+cell": {
     "inputWidgets": {},
     "nuid": "dc442bb2-7a7d-49fd-9431-a418aa64f193",
     "showTitle": false,
     "title": ""
    }
   },
   "outputs": [
    {
     "data": {
      "text/html": [
       "\n",
       "\n",
       "\n",
       "\n",
       "\n",
       "\n",
       "  <div class=\"bk-root\" id=\"302a4dc1-78d9-4ac6-9ab3-9fc93a30ec36\" data-root-id=\"3199\"></div>\n"
      ]
     },
     "metadata": {},
     "output_type": "display_data"
    },
    {
     "data": {
      "application/javascript": [
       "(function(root) {\n",
       "  function embed_document(root) {\n",
       "    \n",
       "  const docs_json = {\"00e56af4-2237-4455-b03b-f39b73adb14f\":{\"defs\":[],\"roots\":{\"references\":[{\"attributes\":{\"high\":40,\"low\":1,\"step\":0.5,\"title\":\"Glyph size\",\"value\":4,\"value_throttled\":4,\"width\":80},\"id\":\"3199\",\"type\":\"Spinner\"}],\"root_ids\":[\"3199\"]},\"title\":\"Bokeh Application\",\"version\":\"2.4.2\"}};\n",
       "  const render_items = [{\"docid\":\"00e56af4-2237-4455-b03b-f39b73adb14f\",\"root_ids\":[\"3199\"],\"roots\":{\"3199\":\"302a4dc1-78d9-4ac6-9ab3-9fc93a30ec36\"}}];\n",
       "  root.Bokeh.embed.embed_items_notebook(docs_json, render_items);\n",
       "\n",
       "  }\n",
       "  if (root.Bokeh !== undefined) {\n",
       "    embed_document(root);\n",
       "  } else {\n",
       "    let attempts = 0;\n",
       "    const timer = setInterval(function(root) {\n",
       "      if (root.Bokeh !== undefined) {\n",
       "        clearInterval(timer);\n",
       "        embed_document(root);\n",
       "      } else {\n",
       "        attempts++;\n",
       "        if (attempts > 100) {\n",
       "          clearInterval(timer);\n",
       "          console.log(\"Bokeh: ERROR: Unable to run BokehJS code because BokehJS library is missing\");\n",
       "        }\n",
       "      }\n",
       "    }, 10, root)\n",
       "  }\n",
       "})(window);"
      ],
      "application/vnd.bokehjs_exec.v0+json": ""
     },
     "metadata": {
      "application/vnd.bokehjs_exec.v0+json": {
       "id": "3199"
      }
     },
     "output_type": "display_data"
    }
   ],
   "source": [
    "from bokeh.models import Spinner\n",
    "spinner = Spinner(title=\"Glyph size\", low=1, high=40, step=0.5, value=4, width=80)\n",
    "\n",
    "show(spinner)"
   ]
  },
  {
   "cell_type": "markdown",
   "metadata": {
    "application/vnd.databricks.v1+cell": {
     "inputWidgets": {},
     "nuid": "4e2ce50a-5518-4786-92ce-c119e77b2329",
     "showTitle": false,
     "title": ""
    }
   },
   "source": [
    "### Combining widgets and glyphs"
   ]
  },
  {
   "cell_type": "code",
   "execution_count": 13,
   "metadata": {
    "application/vnd.databricks.v1+cell": {
     "inputWidgets": {},
     "nuid": "cfb85821-db76-4838-b8e7-479b82c7cbe0",
     "showTitle": false,
     "title": ""
    }
   },
   "outputs": [
    {
     "data": {
      "text/html": [
       "\n",
       "\n",
       "\n",
       "\n",
       "\n",
       "\n",
       "  <div class=\"bk-root\" id=\"5cdc299d-424f-4a85-8807-56a465239df4\" data-root-id=\"3355\"></div>\n"
      ]
     },
     "metadata": {},
     "output_type": "display_data"
    },
    {
     "data": {
      "application/javascript": [
       "(function(root) {\n",
       "  function embed_document(root) {\n",
       "    \n",
       "  const docs_json = {\"06019299-9ad8-4711-9a31-4ca940e34b72\":{\"defs\":[],\"roots\":{\"references\":[{\"attributes\":{\"children\":[{\"id\":\"3354\"},{\"id\":\"3315\"}]},\"id\":\"3355\",\"type\":\"Row\"},{\"attributes\":{\"below\":[{\"id\":\"3324\"}],\"center\":[{\"id\":\"3327\"},{\"id\":\"3331\"}],\"left\":[{\"id\":\"3328\"}],\"renderers\":[{\"id\":\"3350\"}],\"title\":{\"id\":\"3471\"},\"toolbar\":{\"id\":\"3339\"},\"x_range\":{\"id\":\"3316\"},\"x_scale\":{\"id\":\"3320\"},\"y_range\":{\"id\":\"3318\"},\"y_scale\":{\"id\":\"3322\"}},\"id\":\"3315\",\"subtype\":\"Figure\",\"type\":\"Plot\"},{\"attributes\":{},\"id\":\"3337\",\"type\":\"HelpTool\"},{\"attributes\":{\"coordinates\":null,\"formatter\":{\"id\":\"3477\"},\"group\":null,\"major_label_policy\":{\"id\":\"3478\"},\"ticker\":{\"id\":\"3325\"}},\"id\":\"3324\",\"type\":\"LinearAxis\"},{\"attributes\":{},\"id\":\"3474\",\"type\":\"BasicTickFormatter\"},{\"attributes\":{\"tools\":[{\"id\":\"3332\"},{\"id\":\"3333\"},{\"id\":\"3334\"},{\"id\":\"3335\"},{\"id\":\"3336\"},{\"id\":\"3337\"}]},\"id\":\"3339\",\"type\":\"Toolbar\"},{\"attributes\":{},\"id\":\"3325\",\"type\":\"BasicTicker\"},{\"attributes\":{\"coordinates\":null,\"group\":null},\"id\":\"3471\",\"type\":\"Title\"},{\"attributes\":{\"axis\":{\"id\":\"3324\"},\"coordinates\":null,\"group\":null,\"ticker\":null},\"id\":\"3327\",\"type\":\"Grid\"},{\"attributes\":{\"bottom_units\":\"screen\",\"coordinates\":null,\"fill_alpha\":0.5,\"fill_color\":\"lightgrey\",\"group\":null,\"left_units\":\"screen\",\"level\":\"overlay\",\"line_alpha\":1.0,\"line_color\":\"black\",\"line_dash\":[4,4],\"line_width\":2,\"right_units\":\"screen\",\"syncable\":false,\"top_units\":\"screen\"},\"id\":\"3338\",\"type\":\"BoxAnnotation\"},{\"attributes\":{\"coordinates\":null,\"formatter\":{\"id\":\"3474\"},\"group\":null,\"major_label_policy\":{\"id\":\"3475\"},\"ticker\":{\"id\":\"3329\"}},\"id\":\"3328\",\"type\":\"LinearAxis\"},{\"attributes\":{},\"id\":\"3329\",\"type\":\"BasicTicker\"},{\"attributes\":{},\"id\":\"3475\",\"type\":\"AllLabels\"},{\"attributes\":{\"fill_alpha\":{\"value\":0.1},\"fill_color\":{\"value\":\"#1f77b4\"},\"hatch_alpha\":{\"value\":0.1},\"line_alpha\":{\"value\":0.1},\"line_color\":{\"value\":\"#1f77b4\"},\"x\":{\"field\":\"x\"},\"y\":{\"field\":\"y\"}},\"id\":\"3348\",\"type\":\"Scatter\"},{\"attributes\":{},\"id\":\"3477\",\"type\":\"BasicTickFormatter\"},{\"attributes\":{},\"id\":\"3480\",\"type\":\"Selection\"},{\"attributes\":{},\"id\":\"3478\",\"type\":\"AllLabels\"},{\"attributes\":{\"fill_alpha\":{\"value\":0.2},\"fill_color\":{\"value\":\"#1f77b4\"},\"hatch_alpha\":{\"value\":0.2},\"line_alpha\":{\"value\":0.2},\"line_color\":{\"value\":\"#1f77b4\"},\"x\":{\"field\":\"x\"},\"y\":{\"field\":\"y\"}},\"id\":\"3349\",\"type\":\"Scatter\"},{\"attributes\":{\"coordinates\":null,\"data_source\":{\"id\":\"3346\"},\"glyph\":{\"id\":\"3347\"},\"group\":null,\"hover_glyph\":null,\"muted_glyph\":{\"id\":\"3349\"},\"nonselection_glyph\":{\"id\":\"3348\"},\"view\":{\"id\":\"3351\"}},\"id\":\"3350\",\"type\":\"GlyphRenderer\"},{\"attributes\":{\"axis\":{\"id\":\"3328\"},\"coordinates\":null,\"dimension\":1,\"group\":null,\"ticker\":null},\"id\":\"3331\",\"type\":\"Grid\"},{\"attributes\":{},\"id\":\"3479\",\"type\":\"UnionRenderers\"},{\"attributes\":{\"source\":{\"id\":\"3346\"}},\"id\":\"3351\",\"type\":\"CDSView\"},{\"attributes\":{\"fill_color\":{\"value\":\"#1f77b4\"},\"line_color\":{\"value\":\"#1f77b4\"},\"x\":{\"field\":\"x\"},\"y\":{\"field\":\"y\"}},\"id\":\"3347\",\"type\":\"Scatter\"},{\"attributes\":{},\"id\":\"3322\",\"type\":\"LinearScale\"},{\"attributes\":{\"data\":{\"x\":{\"__ndarray__\":\"qOXN4kQK2T/gj3RSxeSUP3DoIE7WhuE/+wQiZaBa4D8uxlJxZYTsPyjJn9QsPdY/qCU9BKZM4j82F3Oo+vfaPwFB540bMuA/OK+9m+zT2z8=\",\"dtype\":\"float64\",\"order\":\"little\",\"shape\":[10]},\"y\":{\"__ndarray__\":\"vne73z2+4j/g2f4LlhK2PwUb8oari+Q/AEoXnRWWoD9eiEe08KDaP0Y89NsdIOU/Brr5hffR5j93OdYJc4HsPxijMWl3gco/mGT9G8yssj8=\",\"dtype\":\"float64\",\"order\":\"little\",\"shape\":[10]}},\"selected\":{\"id\":\"3480\"},\"selection_policy\":{\"id\":\"3479\"}},\"id\":\"3346\",\"type\":\"ColumnDataSource\"},{\"attributes\":{},\"id\":\"3318\",\"type\":\"Range1d\"},{\"attributes\":{},\"id\":\"3316\",\"type\":\"Range1d\"},{\"attributes\":{\"args\":{\"other\":{\"id\":\"3347\"}},\"code\":\"other.size = this.value\"},\"id\":\"3353\",\"type\":\"CustomJS\"},{\"attributes\":{},\"id\":\"3332\",\"type\":\"PanTool\"},{\"attributes\":{\"high\":40,\"js_property_callbacks\":{\"change:value\":[{\"id\":\"3353\"}]},\"low\":1,\"step\":0.5,\"title\":\"Glyph size\",\"value\":4,\"value_throttled\":4,\"width\":80},\"id\":\"3352\",\"type\":\"Spinner\"},{\"attributes\":{},\"id\":\"3336\",\"type\":\"ResetTool\"},{\"attributes\":{},\"id\":\"3320\",\"type\":\"LinearScale\"},{\"attributes\":{},\"id\":\"3333\",\"type\":\"WheelZoomTool\"},{\"attributes\":{\"overlay\":{\"id\":\"3338\"}},\"id\":\"3334\",\"type\":\"BoxZoomTool\"},{\"attributes\":{},\"id\":\"3335\",\"type\":\"SaveTool\"},{\"attributes\":{\"children\":[{\"id\":\"3352\"}],\"width\":100},\"id\":\"3354\",\"type\":\"Column\"}],\"root_ids\":[\"3355\"]},\"title\":\"Bokeh Application\",\"version\":\"2.4.2\"}};\n",
       "  const render_items = [{\"docid\":\"06019299-9ad8-4711-9a31-4ca940e34b72\",\"root_ids\":[\"3355\"],\"roots\":{\"3355\":\"5cdc299d-424f-4a85-8807-56a465239df4\"}}];\n",
       "  root.Bokeh.embed.embed_items_notebook(docs_json, render_items);\n",
       "\n",
       "  }\n",
       "  if (root.Bokeh !== undefined) {\n",
       "    embed_document(root);\n",
       "  } else {\n",
       "    let attempts = 0;\n",
       "    const timer = setInterval(function(root) {\n",
       "      if (root.Bokeh !== undefined) {\n",
       "        clearInterval(timer);\n",
       "        embed_document(root);\n",
       "      } else {\n",
       "        attempts++;\n",
       "        if (attempts > 100) {\n",
       "          clearInterval(timer);\n",
       "          console.log(\"Bokeh: ERROR: Unable to run BokehJS code because BokehJS library is missing\");\n",
       "        }\n",
       "      }\n",
       "    }, 10, root)\n",
       "  }\n",
       "})(window);"
      ],
      "application/vnd.bokehjs_exec.v0+json": ""
     },
     "metadata": {
      "application/vnd.bokehjs_exec.v0+json": {
       "id": "3355"
      }
     },
     "output_type": "display_data"
    }
   ],
   "source": [
    "import numpy as np\n",
    "\n",
    "from bokeh.io import show\n",
    "from bokeh.layouts import column, row\n",
    "from bokeh.models import Spinner\n",
    "from bokeh.plotting import figure\n",
    "\n",
    "x = np.random.rand(10)\n",
    "y = np.random.rand(10)\n",
    "\n",
    "p = figure(x_range=(0, 1), y_range=(0, 1))\n",
    "points = p.scatter(x=x, y=y, size=4)\n",
    "\n",
    "spinner = Spinner(title=\"Glyph size\", low=1, high=40, step=0.5, value=4, width=80)\n",
    "spinner.js_link('value', points.glyph, 'size')\n",
    "\n",
    "show(row(column(spinner, width=100), p))"
   ]
  },
  {
   "cell_type": "markdown",
   "metadata": {
    "application/vnd.databricks.v1+cell": {
     "inputWidgets": {},
     "nuid": "e3e3c85f-5641-4f78-b323-ff1629ce7443",
     "showTitle": false,
     "title": ""
    }
   },
   "source": [
    "## Data Table"
   ]
  },
  {
   "cell_type": "code",
   "execution_count": 14,
   "metadata": {
    "application/vnd.databricks.v1+cell": {
     "inputWidgets": {},
     "nuid": "f7d50828-90fe-465f-948e-42f63eb0ad7d",
     "showTitle": false,
     "title": ""
    }
   },
   "outputs": [
    {
     "data": {
      "text/html": [
       "\n",
       "\n",
       "\n",
       "\n",
       "\n",
       "\n",
       "  <div class=\"bk-root\" id=\"cf6123bf-0e5a-4b51-8512-178e68b5a61f\" data-root-id=\"3544\"></div>\n"
      ]
     },
     "metadata": {},
     "output_type": "display_data"
    },
    {
     "data": {
      "application/javascript": [
       "(function(root) {\n",
       "  function embed_document(root) {\n",
       "    \n",
       "  const docs_json = {\"4cb47e63-1e6b-47d1-a9fe-397d6516b383\":{\"defs\":[],\"roots\":{\"references\":[{\"attributes\":{\"columns\":[{\"id\":\"3539\"},{\"id\":\"3542\"}],\"height\":280,\"source\":{\"id\":\"3537\"},\"view\":{\"id\":\"3546\"},\"width\":400},\"id\":\"3544\",\"type\":\"DataTable\"},{\"attributes\":{\"editor\":{\"id\":\"3673\"},\"field\":\"dates\",\"formatter\":{\"id\":\"3538\"},\"title\":\"Date\"},\"id\":\"3539\",\"type\":\"TableColumn\"},{\"attributes\":{\"source\":{\"id\":\"3537\"}},\"id\":\"3546\",\"type\":\"CDSView\"},{\"attributes\":{\"editor\":{\"id\":\"3674\"},\"field\":\"price\",\"formatter\":{\"id\":\"3541\"},\"title\":\"Price\"},\"id\":\"3542\",\"type\":\"TableColumn\"},{\"attributes\":{},\"id\":\"3673\",\"type\":\"StringEditor\"},{\"attributes\":{\"format\":\"$0,0.00\"},\"id\":\"3541\",\"type\":\"NumberFormatter\"},{\"attributes\":{},\"id\":\"3674\",\"type\":\"StringEditor\"},{\"attributes\":{},\"id\":\"3676\",\"type\":\"Selection\"},{\"attributes\":{\"data\":{\"dates\":[\"2014-03-01\",\"2014-03-02\",\"2014-03-03\",\"2014-03-04\",\"2014-03-05\",\"2014-03-06\",\"2014-03-07\",\"2014-03-08\",\"2014-03-09\",\"2014-03-10\"],\"price\":[5559,8782,5932,3798,9339,9119,4226,1748,4424,7521]},\"selected\":{\"id\":\"3676\"},\"selection_policy\":{\"id\":\"3675\"}},\"id\":\"3537\",\"type\":\"ColumnDataSource\"},{\"attributes\":{},\"id\":\"3538\",\"type\":\"DateFormatter\"},{\"attributes\":{},\"id\":\"3675\",\"type\":\"UnionRenderers\"}],\"root_ids\":[\"3544\"]},\"title\":\"Bokeh Application\",\"version\":\"2.4.2\"}};\n",
       "  const render_items = [{\"docid\":\"4cb47e63-1e6b-47d1-a9fe-397d6516b383\",\"root_ids\":[\"3544\"],\"roots\":{\"3544\":\"cf6123bf-0e5a-4b51-8512-178e68b5a61f\"}}];\n",
       "  root.Bokeh.embed.embed_items_notebook(docs_json, render_items);\n",
       "\n",
       "  }\n",
       "  if (root.Bokeh !== undefined) {\n",
       "    embed_document(root);\n",
       "  } else {\n",
       "    let attempts = 0;\n",
       "    const timer = setInterval(function(root) {\n",
       "      if (root.Bokeh !== undefined) {\n",
       "        clearInterval(timer);\n",
       "        embed_document(root);\n",
       "      } else {\n",
       "        attempts++;\n",
       "        if (attempts > 100) {\n",
       "          clearInterval(timer);\n",
       "          console.log(\"Bokeh: ERROR: Unable to run BokehJS code because BokehJS library is missing\");\n",
       "        }\n",
       "      }\n",
       "    }, 10, root)\n",
       "  }\n",
       "})(window);"
      ],
      "application/vnd.bokehjs_exec.v0+json": ""
     },
     "metadata": {
      "application/vnd.bokehjs_exec.v0+json": {
       "id": "3544"
      }
     },
     "output_type": "display_data"
    }
   ],
   "source": [
    "from datetime import date\n",
    "from random import randint\n",
    "\n",
    "from bokeh.io import show\n",
    "from bokeh.models import ColumnDataSource, DataTable, DateFormatter, TableColumn, NumberFormatter\n",
    "\n",
    "data = dict(\n",
    "        dates=[date(2014, 3, i+1) for i in range(10)],\n",
    "        price=[randint(0, 10000) for i in range(10)],\n",
    "    )\n",
    "source = ColumnDataSource(data)\n",
    "\n",
    "columns = [\n",
    "        TableColumn(field=\"dates\", title=\"Date\", formatter=DateFormatter()),\n",
    "        TableColumn(field=\"price\", title=\"Price\", formatter =NumberFormatter(format='$0,0.00')),\n",
    "    ]\n",
    "data_table = DataTable(source=source, columns=columns, width=400, height=280)\n",
    "\n",
    "show(data_table)"
   ]
  },
  {
   "cell_type": "markdown",
   "metadata": {
    "application/vnd.databricks.v1+cell": {
     "inputWidgets": {},
     "nuid": "f7600747-d505-4325-a03d-b768886ca7ff",
     "showTitle": false,
     "title": ""
    }
   },
   "source": [
    "## Div\n",
    "\n",
    "A widget for displaying text that can support HTML in a <div> tag:"
   ]
  },
  {
   "cell_type": "code",
   "execution_count": 15,
   "metadata": {
    "application/vnd.databricks.v1+cell": {
     "inputWidgets": {},
     "nuid": "9ef59a1c-fb6f-439e-8b65-76cd6d2e82c0",
     "showTitle": false,
     "title": ""
    },
    "scrolled": true
   },
   "outputs": [
    {
     "data": {
      "text/html": [
       "\n",
       "\n",
       "\n",
       "\n",
       "\n",
       "\n",
       "  <div class=\"bk-root\" id=\"be547c99-132a-4e29-b097-e61383bfb0c5\" data-root-id=\"3697\"></div>\n"
      ]
     },
     "metadata": {},
     "output_type": "display_data"
    },
    {
     "data": {
      "application/javascript": [
       "(function(root) {\n",
       "  function embed_document(root) {\n",
       "    \n",
       "  const docs_json = {\"4f77e602-6aa1-453f-af46-8103656e33ab\":{\"defs\":[],\"roots\":{\"references\":[{\"attributes\":{\"height\":100,\"text\":\"Your <a href=\\\"https://en.wikipedia.org/wiki/HTML\\\">HTML</a>-supported text is initialized with the <b>text</b> argument.  The\\nremaining div arguments are <b>width</b> and <b>height</b>. For this example, those values\\nare <i>200</i> and <i>100</i>, respectively.\",\"width\":200},\"id\":\"3697\",\"type\":\"Div\"}],\"root_ids\":[\"3697\"]},\"title\":\"Bokeh Application\",\"version\":\"2.4.2\"}};\n",
       "  const render_items = [{\"docid\":\"4f77e602-6aa1-453f-af46-8103656e33ab\",\"root_ids\":[\"3697\"],\"roots\":{\"3697\":\"be547c99-132a-4e29-b097-e61383bfb0c5\"}}];\n",
       "  root.Bokeh.embed.embed_items_notebook(docs_json, render_items);\n",
       "\n",
       "  }\n",
       "  if (root.Bokeh !== undefined) {\n",
       "    embed_document(root);\n",
       "  } else {\n",
       "    let attempts = 0;\n",
       "    const timer = setInterval(function(root) {\n",
       "      if (root.Bokeh !== undefined) {\n",
       "        clearInterval(timer);\n",
       "        embed_document(root);\n",
       "      } else {\n",
       "        attempts++;\n",
       "        if (attempts > 100) {\n",
       "          clearInterval(timer);\n",
       "          console.log(\"Bokeh: ERROR: Unable to run BokehJS code because BokehJS library is missing\");\n",
       "        }\n",
       "      }\n",
       "    }, 10, root)\n",
       "  }\n",
       "})(window);"
      ],
      "application/vnd.bokehjs_exec.v0+json": ""
     },
     "metadata": {
      "application/vnd.bokehjs_exec.v0+json": {
       "id": "3697"
      }
     },
     "output_type": "display_data"
    }
   ],
   "source": [
    "from bokeh.io import show\n",
    "from bokeh.models import Div\n",
    "\n",
    "div = Div(text=\"\"\"Your <a href=\"https://en.wikipedia.org/wiki/HTML\">HTML</a>-supported text is initialized with the <b>text</b> argument.  The\n",
    "remaining div arguments are <b>width</b> and <b>height</b>. For this example, those values\n",
    "are <i>200</i> and <i>100</i>, respectively.\"\"\",\n",
    "width=200, height=100)\n",
    "\n",
    "show(div)"
   ]
  },
  {
   "cell_type": "code",
   "execution_count": 16,
   "metadata": {
    "application/vnd.databricks.v1+cell": {
     "inputWidgets": {},
     "nuid": "b35db36e-bad9-45ca-9078-4c32c61609be",
     "showTitle": false,
     "title": ""
    }
   },
   "outputs": [
    {
     "data": {
      "text/html": [
       "\n",
       "\n",
       "\n",
       "\n",
       "\n",
       "\n",
       "  <div class=\"bk-root\" id=\"a6119a88-8993-4c52-a231-a10456937d7f\" data-root-id=\"3828\"></div>\n"
      ]
     },
     "metadata": {},
     "output_type": "display_data"
    },
    {
     "data": {
      "application/javascript": [
       "(function(root) {\n",
       "  function embed_document(root) {\n",
       "    \n",
       "  const docs_json = {\"a30fc1a6-e1ab-4607-be29-0584181ecd5b\":{\"defs\":[],\"roots\":{\"references\":[{\"attributes\":{\"height\":50,\"text\":\"<h1><font color=Brown> Header </font></h1>\",\"width\":200},\"id\":\"3828\",\"type\":\"Div\"}],\"root_ids\":[\"3828\"]},\"title\":\"Bokeh Application\",\"version\":\"2.4.2\"}};\n",
       "  const render_items = [{\"docid\":\"a30fc1a6-e1ab-4607-be29-0584181ecd5b\",\"root_ids\":[\"3828\"],\"roots\":{\"3828\":\"a6119a88-8993-4c52-a231-a10456937d7f\"}}];\n",
       "  root.Bokeh.embed.embed_items_notebook(docs_json, render_items);\n",
       "\n",
       "  }\n",
       "  if (root.Bokeh !== undefined) {\n",
       "    embed_document(root);\n",
       "  } else {\n",
       "    let attempts = 0;\n",
       "    const timer = setInterval(function(root) {\n",
       "      if (root.Bokeh !== undefined) {\n",
       "        clearInterval(timer);\n",
       "        embed_document(root);\n",
       "      } else {\n",
       "        attempts++;\n",
       "        if (attempts > 100) {\n",
       "          clearInterval(timer);\n",
       "          console.log(\"Bokeh: ERROR: Unable to run BokehJS code because BokehJS library is missing\");\n",
       "        }\n",
       "      }\n",
       "    }, 10, root)\n",
       "  }\n",
       "})(window);"
      ],
      "application/vnd.bokehjs_exec.v0+json": ""
     },
     "metadata": {
      "application/vnd.bokehjs_exec.v0+json": {
       "id": "3828"
      }
     },
     "output_type": "display_data"
    }
   ],
   "source": [
    "div = Div(text=\"\"\"<h1><font color=Brown> Header </font></h1>\"\"\",\n",
    "width=200, height=50)\n",
    "\n",
    "show(div)"
   ]
  },
  {
   "cell_type": "markdown",
   "metadata": {
    "application/vnd.databricks.v1+cell": {
     "inputWidgets": {},
     "nuid": "3c0c69bd-fc36-4918-9a9a-97323a12db32",
     "showTitle": false,
     "title": ""
    }
   },
   "source": [
    "## Tabs\n",
    "\n",
    "Tab panes allow multiple plots or layouts to be shown in selectable tabs:"
   ]
  },
  {
   "cell_type": "code",
   "execution_count": 17,
   "metadata": {
    "application/vnd.databricks.v1+cell": {
     "inputWidgets": {},
     "nuid": "298cfda6-c291-4441-886b-053ab65690d2",
     "showTitle": false,
     "title": ""
    }
   },
   "outputs": [
    {
     "data": {
      "text/html": [
       "\n",
       "\n",
       "\n",
       "\n",
       "\n",
       "\n",
       "  <div class=\"bk-root\" id=\"88107dfd-4cc1-4edc-88cb-e1f4204f0e36\" data-root-id=\"4035\"></div>\n"
      ]
     },
     "metadata": {},
     "output_type": "display_data"
    },
    {
     "data": {
      "application/javascript": [
       "(function(root) {\n",
       "  function embed_document(root) {\n",
       "    \n",
       "  const docs_json = {\"6cebaa31-be9e-4f25-93dd-29d9bef146a9\":{\"defs\":[],\"roots\":{\"references\":[{\"attributes\":{\"tabs\":[{\"id\":\"3996\"},{\"id\":\"4034\"}]},\"id\":\"4035\",\"type\":\"Tabs\"},{\"attributes\":{\"overlay\":{\"id\":\"3982\"}},\"id\":\"3978\",\"type\":\"BoxZoomTool\"},{\"attributes\":{},\"id\":\"3960\",\"type\":\"DataRange1d\"},{\"attributes\":{\"coordinates\":null,\"data_source\":{\"id\":\"4028\"},\"glyph\":{\"id\":\"4029\"},\"group\":null,\"hover_glyph\":null,\"muted_glyph\":{\"id\":\"4031\"},\"nonselection_glyph\":{\"id\":\"4030\"},\"view\":{\"id\":\"4033\"}},\"id\":\"4032\",\"type\":\"GlyphRenderer\"},{\"attributes\":{},\"id\":\"4014\",\"type\":\"PanTool\"},{\"attributes\":{},\"id\":\"3980\",\"type\":\"ResetTool\"},{\"attributes\":{},\"id\":\"4018\",\"type\":\"ResetTool\"},{\"attributes\":{\"coordinates\":null,\"group\":null},\"id\":\"4168\",\"type\":\"Title\"},{\"attributes\":{},\"id\":\"3981\",\"type\":\"HelpTool\"},{\"attributes\":{},\"id\":\"4015\",\"type\":\"WheelZoomTool\"},{\"attributes\":{\"overlay\":{\"id\":\"4020\"}},\"id\":\"4016\",\"type\":\"BoxZoomTool\"},{\"attributes\":{},\"id\":\"3969\",\"type\":\"BasicTicker\"},{\"attributes\":{},\"id\":\"4172\",\"type\":\"AllLabels\"},{\"attributes\":{},\"id\":\"4017\",\"type\":\"SaveTool\"},{\"attributes\":{\"tools\":[{\"id\":\"3976\"},{\"id\":\"3977\"},{\"id\":\"3978\"},{\"id\":\"3979\"},{\"id\":\"3980\"},{\"id\":\"3981\"}]},\"id\":\"3983\",\"type\":\"Toolbar\"},{\"attributes\":{},\"id\":\"4175\",\"type\":\"AllLabels\"},{\"attributes\":{},\"id\":\"4007\",\"type\":\"BasicTicker\"},{\"attributes\":{},\"id\":\"3964\",\"type\":\"LinearScale\"},{\"attributes\":{},\"id\":\"4174\",\"type\":\"BasicTickFormatter\"},{\"attributes\":{},\"id\":\"4002\",\"type\":\"LinearScale\"},{\"attributes\":{},\"id\":\"3976\",\"type\":\"PanTool\"},{\"attributes\":{},\"id\":\"3966\",\"type\":\"LinearScale\"},{\"attributes\":{},\"id\":\"4019\",\"type\":\"HelpTool\"},{\"attributes\":{},\"id\":\"4178\",\"type\":\"AllLabels\"},{\"attributes\":{\"bottom_units\":\"screen\",\"coordinates\":null,\"fill_alpha\":0.5,\"fill_color\":\"lightgrey\",\"group\":null,\"left_units\":\"screen\",\"level\":\"overlay\",\"line_alpha\":1.0,\"line_color\":\"black\",\"line_dash\":[4,4],\"line_width\":2,\"right_units\":\"screen\",\"syncable\":false,\"top_units\":\"screen\"},\"id\":\"3982\",\"type\":\"BoxAnnotation\"},{\"attributes\":{\"child\":{\"id\":\"3997\"},\"title\":\"line\"},\"id\":\"4034\",\"type\":\"Panel\"},{\"attributes\":{},\"id\":\"4004\",\"type\":\"LinearScale\"},{\"attributes\":{},\"id\":\"4171\",\"type\":\"BasicTickFormatter\"},{\"attributes\":{},\"id\":\"4186\",\"type\":\"Selection\"},{\"attributes\":{\"below\":[{\"id\":\"3968\"}],\"center\":[{\"id\":\"3971\"},{\"id\":\"3975\"}],\"height\":300,\"left\":[{\"id\":\"3972\"}],\"renderers\":[{\"id\":\"3994\"}],\"title\":{\"id\":\"4166\"},\"toolbar\":{\"id\":\"3983\"},\"width\":300,\"x_range\":{\"id\":\"3960\"},\"x_scale\":{\"id\":\"3964\"},\"y_range\":{\"id\":\"3962\"},\"y_scale\":{\"id\":\"3966\"}},\"id\":\"3959\",\"subtype\":\"Figure\",\"type\":\"Plot\"},{\"attributes\":{\"axis\":{\"id\":\"3972\"},\"coordinates\":null,\"dimension\":1,\"group\":null,\"ticker\":null},\"id\":\"3975\",\"type\":\"Grid\"},{\"attributes\":{\"coordinates\":null,\"formatter\":{\"id\":\"4180\"},\"group\":null,\"major_label_policy\":{\"id\":\"4181\"},\"ticker\":{\"id\":\"4007\"}},\"id\":\"4006\",\"type\":\"LinearAxis\"},{\"attributes\":{\"source\":{\"id\":\"4028\"}},\"id\":\"4033\",\"type\":\"CDSView\"},{\"attributes\":{},\"id\":\"4180\",\"type\":\"BasicTickFormatter\"},{\"attributes\":{\"coordinates\":null,\"formatter\":{\"id\":\"4174\"},\"group\":null,\"major_label_policy\":{\"id\":\"4175\"},\"ticker\":{\"id\":\"3969\"}},\"id\":\"3968\",\"type\":\"LinearAxis\"},{\"attributes\":{},\"id\":\"4177\",\"type\":\"BasicTickFormatter\"},{\"attributes\":{\"axis\":{\"id\":\"4006\"},\"coordinates\":null,\"group\":null,\"ticker\":null},\"id\":\"4009\",\"type\":\"Grid\"},{\"attributes\":{},\"id\":\"3962\",\"type\":\"DataRange1d\"},{\"attributes\":{\"coordinates\":null,\"formatter\":{\"id\":\"4171\"},\"group\":null,\"major_label_policy\":{\"id\":\"4172\"},\"ticker\":{\"id\":\"3973\"}},\"id\":\"3972\",\"type\":\"LinearAxis\"},{\"attributes\":{\"tools\":[{\"id\":\"4014\"},{\"id\":\"4015\"},{\"id\":\"4016\"},{\"id\":\"4017\"},{\"id\":\"4018\"},{\"id\":\"4019\"}]},\"id\":\"4021\",\"type\":\"Toolbar\"},{\"attributes\":{\"line_alpha\":0.5,\"line_color\":\"navy\",\"line_width\":3,\"x\":{\"field\":\"x\"},\"y\":{\"field\":\"y\"}},\"id\":\"4029\",\"type\":\"Line\"},{\"attributes\":{\"axis\":{\"id\":\"3968\"},\"coordinates\":null,\"group\":null,\"ticker\":null},\"id\":\"3971\",\"type\":\"Grid\"},{\"attributes\":{\"coordinates\":null,\"formatter\":{\"id\":\"4177\"},\"group\":null,\"major_label_policy\":{\"id\":\"4178\"},\"ticker\":{\"id\":\"4011\"}},\"id\":\"4010\",\"type\":\"LinearAxis\"},{\"attributes\":{},\"id\":\"4011\",\"type\":\"BasicTicker\"},{\"attributes\":{},\"id\":\"4181\",\"type\":\"AllLabels\"},{\"attributes\":{\"fill_alpha\":{\"value\":0.5},\"fill_color\":{\"value\":\"navy\"},\"hatch_alpha\":{\"value\":0.5},\"hatch_color\":{\"value\":\"navy\"},\"line_alpha\":{\"value\":0.5},\"line_color\":{\"value\":\"navy\"},\"size\":{\"value\":20},\"x\":{\"field\":\"x\"},\"y\":{\"field\":\"y\"}},\"id\":\"3991\",\"type\":\"Circle\"},{\"attributes\":{},\"id\":\"3973\",\"type\":\"BasicTicker\"},{\"attributes\":{\"line_alpha\":0.1,\"line_color\":\"navy\",\"line_width\":3,\"x\":{\"field\":\"x\"},\"y\":{\"field\":\"y\"}},\"id\":\"4030\",\"type\":\"Line\"},{\"attributes\":{},\"id\":\"4182\",\"type\":\"UnionRenderers\"},{\"attributes\":{\"bottom_units\":\"screen\",\"coordinates\":null,\"fill_alpha\":0.5,\"fill_color\":\"lightgrey\",\"group\":null,\"left_units\":\"screen\",\"level\":\"overlay\",\"line_alpha\":1.0,\"line_color\":\"black\",\"line_dash\":[4,4],\"line_width\":2,\"right_units\":\"screen\",\"syncable\":false,\"top_units\":\"screen\"},\"id\":\"4020\",\"type\":\"BoxAnnotation\"},{\"attributes\":{\"child\":{\"id\":\"3959\"},\"title\":\"circle\"},\"id\":\"3996\",\"type\":\"Panel\"},{\"attributes\":{},\"id\":\"4183\",\"type\":\"Selection\"},{\"attributes\":{},\"id\":\"3998\",\"type\":\"DataRange1d\"},{\"attributes\":{\"axis\":{\"id\":\"4010\"},\"coordinates\":null,\"dimension\":1,\"group\":null,\"ticker\":null},\"id\":\"4013\",\"type\":\"Grid\"},{\"attributes\":{},\"id\":\"3977\",\"type\":\"WheelZoomTool\"},{\"attributes\":{},\"id\":\"3979\",\"type\":\"SaveTool\"},{\"attributes\":{\"data\":{\"x\":[1,2,3,4,5],\"y\":[6,7,2,4,5]},\"selected\":{\"id\":\"4186\"},\"selection_policy\":{\"id\":\"4185\"}},\"id\":\"4028\",\"type\":\"ColumnDataSource\"},{\"attributes\":{\"below\":[{\"id\":\"4006\"}],\"center\":[{\"id\":\"4009\"},{\"id\":\"4013\"}],\"height\":300,\"left\":[{\"id\":\"4010\"}],\"renderers\":[{\"id\":\"4032\"}],\"title\":{\"id\":\"4168\"},\"toolbar\":{\"id\":\"4021\"},\"width\":300,\"x_range\":{\"id\":\"3998\"},\"x_scale\":{\"id\":\"4002\"},\"y_range\":{\"id\":\"4000\"},\"y_scale\":{\"id\":\"4004\"}},\"id\":\"3997\",\"subtype\":\"Figure\",\"type\":\"Plot\"},{\"attributes\":{\"fill_alpha\":{\"value\":0.1},\"fill_color\":{\"value\":\"navy\"},\"hatch_alpha\":{\"value\":0.1},\"hatch_color\":{\"value\":\"navy\"},\"line_alpha\":{\"value\":0.1},\"line_color\":{\"value\":\"navy\"},\"size\":{\"value\":20},\"x\":{\"field\":\"x\"},\"y\":{\"field\":\"y\"}},\"id\":\"3992\",\"type\":\"Circle\"},{\"attributes\":{\"coordinates\":null,\"data_source\":{\"id\":\"3990\"},\"glyph\":{\"id\":\"3991\"},\"group\":null,\"hover_glyph\":null,\"muted_glyph\":{\"id\":\"3993\"},\"nonselection_glyph\":{\"id\":\"3992\"},\"view\":{\"id\":\"3995\"}},\"id\":\"3994\",\"type\":\"GlyphRenderer\"},{\"attributes\":{\"data\":{\"x\":[1,2,3,4,5],\"y\":[6,7,2,4,5]},\"selected\":{\"id\":\"4183\"},\"selection_policy\":{\"id\":\"4182\"}},\"id\":\"3990\",\"type\":\"ColumnDataSource\"},{\"attributes\":{},\"id\":\"4185\",\"type\":\"UnionRenderers\"},{\"attributes\":{\"source\":{\"id\":\"3990\"}},\"id\":\"3995\",\"type\":\"CDSView\"},{\"attributes\":{\"line_alpha\":0.2,\"line_color\":\"navy\",\"line_width\":3,\"x\":{\"field\":\"x\"},\"y\":{\"field\":\"y\"}},\"id\":\"4031\",\"type\":\"Line\"},{\"attributes\":{\"fill_alpha\":{\"value\":0.2},\"fill_color\":{\"value\":\"navy\"},\"hatch_alpha\":{\"value\":0.2},\"hatch_color\":{\"value\":\"navy\"},\"line_alpha\":{\"value\":0.2},\"line_color\":{\"value\":\"navy\"},\"size\":{\"value\":20},\"x\":{\"field\":\"x\"},\"y\":{\"field\":\"y\"}},\"id\":\"3993\",\"type\":\"Circle\"},{\"attributes\":{},\"id\":\"4000\",\"type\":\"DataRange1d\"},{\"attributes\":{\"coordinates\":null,\"group\":null},\"id\":\"4166\",\"type\":\"Title\"}],\"root_ids\":[\"4035\"]},\"title\":\"Bokeh Application\",\"version\":\"2.4.2\"}};\n",
       "  const render_items = [{\"docid\":\"6cebaa31-be9e-4f25-93dd-29d9bef146a9\",\"root_ids\":[\"4035\"],\"roots\":{\"4035\":\"88107dfd-4cc1-4edc-88cb-e1f4204f0e36\"}}];\n",
       "  root.Bokeh.embed.embed_items_notebook(docs_json, render_items);\n",
       "\n",
       "  }\n",
       "  if (root.Bokeh !== undefined) {\n",
       "    embed_document(root);\n",
       "  } else {\n",
       "    let attempts = 0;\n",
       "    const timer = setInterval(function(root) {\n",
       "      if (root.Bokeh !== undefined) {\n",
       "        clearInterval(timer);\n",
       "        embed_document(root);\n",
       "      } else {\n",
       "        attempts++;\n",
       "        if (attempts > 100) {\n",
       "          clearInterval(timer);\n",
       "          console.log(\"Bokeh: ERROR: Unable to run BokehJS code because BokehJS library is missing\");\n",
       "        }\n",
       "      }\n",
       "    }, 10, root)\n",
       "  }\n",
       "})(window);"
      ],
      "application/vnd.bokehjs_exec.v0+json": ""
     },
     "metadata": {
      "application/vnd.bokehjs_exec.v0+json": {
       "id": "4035"
      }
     },
     "output_type": "display_data"
    }
   ],
   "source": [
    "from bokeh.io import show\n",
    "from bokeh.models import Panel, Tabs\n",
    "from bokeh.plotting import figure\n",
    "\n",
    "p1 = figure(plot_width=300, plot_height=300)\n",
    "p1.circle([1, 2, 3, 4, 5], [6, 7, 2, 4, 5], size=20, color=\"navy\", alpha=0.5)\n",
    "tab1 = Panel(child=p1, title=\"circle\")\n",
    "\n",
    "p2 = figure(plot_width=300, plot_height=300)\n",
    "p2.line([1, 2, 3, 4, 5], [6, 7, 2, 4, 5], line_width=3, color=\"navy\", alpha=0.5)\n",
    "tab2 = Panel(child=p2, title=\"line\")\n",
    "\n",
    "show(Tabs(tabs=[tab1, tab2]))"
   ]
  }
 ],
 "metadata": {
  "anaconda-cloud": {},
  "application/vnd.databricks.v1+notebook": {
   "dashboards": [],
   "language": "python",
   "notebookMetadata": {
    "pythonIndentUnit": 2
   },
   "notebookName": "Bokeh_Part2",
   "notebookOrigID": 3506280286976858,
   "widgets": {}
  },
  "kernelspec": {
   "display_name": "Python [conda env:ML]",
   "language": "python",
   "name": "conda-env-ML-py"
  },
  "language_info": {
   "codemirror_mode": {
    "name": "ipython",
    "version": 3
   },
   "file_extension": ".py",
   "mimetype": "text/x-python",
   "name": "python",
   "nbconvert_exporter": "python",
   "pygments_lexer": "ipython3",
   "version": "3.7.13"
  }
 },
 "nbformat": 4,
 "nbformat_minor": 1
}
